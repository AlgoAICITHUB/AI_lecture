{
  "nbformat": 4,
  "nbformat_minor": 0,
  "metadata": {
    "colab": {
      "provenance": []
    },
    "kernelspec": {
      "name": "python3",
      "display_name": "Python 3"
    },
    "language_info": {
      "name": "python"
    }
  },
  "cells": [
    {
      "cell_type": "markdown",
      "source": [
        "# 大作業\n",
        "[MRI腦瘤判斷](https://www.kaggle.com/c/izcc-ailecture-1)"
      ],
      "metadata": {
        "id": "VPlb2ueOjrAQ"
      }
    },
    {
      "cell_type": "markdown",
      "source": [
        "## Step1:準備資料\n",
        "Tudo這裡好心，已經先準備好了\n",
        "\n",
        "**建議! 把檔案放進drive裡面**"
      ],
      "metadata": {
        "id": "99Hvsc2Wkclw"
      }
    },
    {
      "cell_type": "code",
      "source": [
        "from google.colab import drive\n",
        "drive.mount('/content/drive')"
      ],
      "metadata": {
        "id": "6K6oZbEsmD0O"
      },
      "execution_count": null,
      "outputs": []
    },
    {
      "cell_type": "code",
      "source": [
        "!unzip /content/drive/MyDrive/izcc-ailecture-1.zip\n",
        "!mkdir train_data\n",
        "!mv /content/train_Brain_Tumor/train_Brain_Tumor train_data\n",
        "!mv /content/train_Healthy/train_Healthy train_data\n"
      ],
      "metadata": {
        "colab": {
          "base_uri": "https://localhost:8080/"
        },
        "id": "qKXBYdXdk-bW",
        "outputId": "35469f66-d576-41fa-f0de-407b38dc6736"
      },
      "execution_count": null,
      "outputs": [
        {
          "output_type": "stream",
          "name": "stdout",
          "text": [
            "unzip:  cannot find or open /content/izcc-ailecture-1.zip, /content/izcc-ailecture-1.zip.zip or /content/izcc-ailecture-1.zip.ZIP.\n",
            "mv: cannot stat '/content/train_Brain_Tumor/*': No such file or directory\n",
            "mv: cannot stat '/content/train_Healthy/*': No such file or directory\n"
          ]
        }
      ]
    },
    {
      "cell_type": "code",
      "source": [
        "import glob\n",
        "ffs = glob.glob('/content/train_data/*/*')\n",
        "import imageio\n",
        "data = []\n",
        "for f in ffs:\n",
        "  if 'Brain_Tumor' in f:\n",
        "    data.append([f, 1])\n",
        "  else:\n",
        "    data.append([f, 0])"
      ],
      "metadata": {
        "id": "tmdG-0yZljUP"
      },
      "execution_count": null,
      "outputs": []
    },
    {
      "cell_type": "code",
      "source": [
        "transform = A.Compose([\n",
        "    A.Resize(224, 224),\n",
        "])"
      ],
      "metadata": {
        "id": "uI86JxtEta6h"
      },
      "execution_count": null,
      "outputs": []
    },
    {
      "cell_type": "code",
      "source": [
        "# 讀取和標記數據\n",
        "ffs = glob.glob('train_data/*/*')\n",
        "data = []\n",
        "all_list = []\n",
        "for f in tqdm.tqdm(ffs):\n",
        "    im = imageio.imread(f)\n",
        "    im = Image.fromarray(im).convert('L')\n",
        "    im = np.array(im)\n",
        "\n",
        "\n",
        "    if 'Brain_Tumor' in f:\n",
        "        data.append([im, 1])\n",
        "        all_list.append(1)\n",
        "    else:\n",
        "        data.append([im, 0])\n",
        "        all_list.append(0)\n",
        "\n",
        "np.bincount(all_list)"
      ],
      "metadata": {
        "id": "TTEdwb0YtgO7"
      },
      "execution_count": null,
      "outputs": []
    },
    {
      "cell_type": "code",
      "source": [
        "import numpy as np\n",
        "import torch\n",
        "\n",
        "def preprocess_image(image, transform, label, device):\n",
        "    # 將圖像進行預處理\n",
        "    im = transform(image=image)['image']\n",
        "    # 將圖像擴展為 3 通道\n",
        "    im = np.stack([im] * 3, axis=0)[None, ...]  # 1, 3, 224, 224\n",
        "    # 將圖像正規化\n",
        "    im = im / np.max(im)\n",
        "    # 將 NumPy 陣列轉換為 PyTorch 張量\n",
        "    im_d = torch.from_numpy(im).to(device).float()\n",
        "    labels = torch.from_numpy(np.array([label])).to(device)\n",
        "\n",
        "    return im_d, labels\n"
      ],
      "metadata": {
        "id": "No_IDPlmtsXc"
      },
      "execution_count": null,
      "outputs": []
    },
    {
      "cell_type": "code",
      "source": [
        "!pip install onnx\n",
        "def transfer_to_onnx(model,name):\n",
        "  model.eval()\n",
        "  example_input = torch.randn(1, 3, 224, 224)\n",
        "  output_onnx_path = f\"{name}.onnx\"\n",
        "  torch.onnx.export(model, example_input, output_onnx_path, verbose=True)"
      ],
      "metadata": {
        "id": "wQUiLmI9HuQr"
      },
      "execution_count": null,
      "outputs": []
    }
  ]
}