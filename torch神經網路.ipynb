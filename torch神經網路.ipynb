{
 "cells": [
  {
   "cell_type": "markdown",
   "id": "16fea3b8-f870-4214-a22f-81eed196ffab",
   "metadata": {},
   "source": [
    "# 神經網路NN\n",
    "在 PyTorch 中，`nn.Module` 是所有神經網路模型的基類。你可以通過繼承 `nn.Module` 來定義你自己的網路。以下是創建一個簡單的全連接(feed-forward)神經網絡的步驟：\n",
    "\n",
    "1. **定義一個繼承自 `nn.Module` 的類**：在你的類中，你需要定義網路層(layers)並在 `forward` 方法中指定數據如何通過網路。\n",
    "\n",
    "2. **初始化網絡層**：在你的類的構造函數 `__init__` 中，你將實例化網絡層並將它們作為成員變量。\n",
    "\n",
    "3. **實現 `forward` 方法**：`forward` 方法將定義數據通過網絡的方式。每次進行前向傳播時，這個方法都會被調用。\n",
    "\n",
    "4. **創建模型實例**：一旦你定義了模型類，你可以創建它的實例並對其進行訓練和評估。\n",
    "\n"
   ]
  },
  {
   "cell_type": "markdown",
   "id": "f5fd425b-8990-4d8f-a597-8099e25a6bef",
   "metadata": {
    "tags": []
   },
   "source": [
    "## 多層感知器（MLP）\n",
    "### 理論介紹:\n",
    "多層感知機（Multilayer Perceptron, MLP）是一種前饋神經網絡，由多層神經元組成，每層之間的神經元全連接。MLP是最基本的深度學習模型之一，常用於分類和迴歸任務。\n",
    "\n",
    "結構：\n",
    "\n",
    "- 輸入層（Input Layer）：接收數據輸入。\n",
    "- 隱藏層（Hidden Layers）：由多個神經元組成，負責學習數據的特徵。隱藏層之間使用激活函數來引入非線性。\n",
    "- 輸出層（Output Layer）：生成最終的預測結果。\n",
    "活化函數：\n",
    "\n",
    "常見的激活函數有ReLU（Rectified Linear Unit）、Sigmoid和Tanh等。ReLU因其簡單高效，被廣泛應用於隱藏層。\n",
    "\n",
    "損失函數：\n",
    "\n",
    "損失函數用於衡量模型預測結果與真實值之間的差異。對於分類任務，常用的損失函數是交叉熵損失（Cross-Entropy Loss）。\n",
    "\n",
    "優化器：\n",
    "\n",
    "優化器用於更新模型參數，以最小化損失函數。常用的優化器有隨機梯度下降（SGD）和Adam等。"
   ]
  },
  {
   "cell_type": "code",
   "execution_count": 1,
   "id": "2a161e2e-5645-410c-a8e6-0536e1257932",
   "metadata": {
    "tags": []
   },
   "outputs": [],
   "source": [
    "# 第一步 import\n",
    "import torch\n",
    "import torch.nn as nn  #神經網路用\n",
    "import torch.optim as optim #優化器用\n"
   ]
  },
  {
   "cell_type": "code",
   "execution_count": 3,
   "id": "a4720ab6-130f-42d1-878f-e6eac28f760b",
   "metadata": {
    "tags": []
   },
   "outputs": [
    {
     "name": "stdout",
     "output_type": "stream",
     "text": [
      "['ASGD', 'Adadelta', 'Adagrad', 'Adam', 'AdamW', 'Adamax', 'LBFGS', 'NAdam', 'Optimizer', 'RAdam', 'RMSprop', 'Rprop', 'SGD', 'SparseAdam', '__builtins__', '__cached__', '__doc__', '__file__', '__loader__', '__name__', '__package__', '__path__', '__spec__', '_functional', '_multi_tensor', 'lr_scheduler', 'swa_utils']\n"
     ]
    }
   ],
   "source": [
    "#OPTIM\n",
    "print(dir(optim))"
   ]
  },
  {
   "cell_type": "markdown",
   "id": "9364f4ed-41f6-4196-a234-8191b98d6ae0",
   "metadata": {},
   "source": [
    "這邊介紹一些優化器"
   ]
  },
  {
   "cell_type": "markdown",
   "id": "4469c249-2709-4a27-aa54-13c0ed39d74a",
   "metadata": {
    "tags": []
   },
   "source": [
    "- SGD -> 純梯度下降 #見numpy講義\n",
    "- MSGD -> 加入一點動量的SGD\n",
    "- AdaGrad ->自動改learning rate\n",
    "- RMSProp -> AdaGrad改良\n",
    "- Adam -> RMSProp+ MSGD 之集大成\n",
    "[Adam](https://hackmd.io/@kk6333/rJ553YG1s)"
   ]
  },
  {
   "cell_type": "code",
   "execution_count": 41,
   "id": "019a2489-801a-438d-8d5c-880f94a98907",
   "metadata": {
    "tags": []
   },
   "outputs": [],
   "source": [
    "#開始建置模型 -> 簡單的線性模型\n",
    "\n",
    "class Net(nn.Module): #從nn.Module複製進我們的class裡\n",
    "    def __init__(self):\n",
    "        super(Net, self).__init__() #有些數值我們想自己改，所以用super\n",
    "        # 定義輸出層：2個隱藏神經元，1個輸出神經元\n",
    "        self.output = nn.Linear(1, 1, dtype=torch.double)\n",
    "\n",
    "    def forward(self, x):\n",
    "        x = self.output(x)\n",
    "        return x\n"
   ]
  },
  {
   "cell_type": "code",
   "execution_count": 42,
   "id": "dd4e74e0-f64c-44bd-bfbf-67cc4b3ef13e",
   "metadata": {
    "tags": []
   },
   "outputs": [
    {
     "data": {
      "text/plain": [
       "Net(\n",
       "  (output): Linear(in_features=1, out_features=1, bias=True)\n",
       ")"
      ]
     },
     "execution_count": 42,
     "metadata": {},
     "output_type": "execute_result"
    }
   ],
   "source": [
    "model = Net()\n",
    "model"
   ]
  },
  {
   "cell_type": "code",
   "execution_count": 43,
   "id": "7e9bc52c-1a1b-4322-a84f-f44b94a05450",
   "metadata": {
    "tags": []
   },
   "outputs": [],
   "source": [
    "data = torch.tensor([[1.061],[1.0734],[1.0866],[1.048]],dtype=torch.double)\n",
    "label = torch.tensor([[1.125721],[1.15218756],[1.18069956],[1.098304]],dtype=torch.double)"
   ]
  },
  {
   "cell_type": "code",
   "execution_count": 44,
   "id": "fa6ff344-876f-4b45-b222-44899047d793",
   "metadata": {
    "tags": []
   },
   "outputs": [
    {
     "data": {
      "text/plain": [
       "tensor([[1.0610],\n",
       "        [1.0734],\n",
       "        [1.0866],\n",
       "        [1.0480]], dtype=torch.float64)"
      ]
     },
     "execution_count": 44,
     "metadata": {},
     "output_type": "execute_result"
    }
   ],
   "source": [
    "data"
   ]
  },
  {
   "cell_type": "code",
   "execution_count": 45,
   "id": "ae9989b9-3263-40ab-86d0-2aebc520e531",
   "metadata": {
    "tags": []
   },
   "outputs": [
    {
     "data": {
      "text/plain": [
       "tensor([[1.1257],\n",
       "        [1.1522],\n",
       "        [1.1807],\n",
       "        [1.0983]], dtype=torch.float64)"
      ]
     },
     "execution_count": 45,
     "metadata": {},
     "output_type": "execute_result"
    }
   ],
   "source": [
    "label"
   ]
  },
  {
   "cell_type": "code",
   "execution_count": 46,
   "id": "99265c2e-790a-49fd-b2c0-76b3543b6973",
   "metadata": {
    "tags": []
   },
   "outputs": [
    {
     "data": {
      "text/plain": [
       "MSELoss()"
      ]
     },
     "execution_count": 46,
     "metadata": {},
     "output_type": "execute_result"
    }
   ],
   "source": [
    "criterion = nn.MSELoss() #距離平方\n",
    "optimizer = optim.SGD(model.parameters(),lr=1e-2)\n",
    "criterion"
   ]
  },
  {
   "cell_type": "code",
   "execution_count": 57,
   "id": "e0ee436c-42ed-4aec-b420-5a904caf23e2",
   "metadata": {
    "tags": []
   },
   "outputs": [
    {
     "name": "stderr",
     "output_type": "stream",
     "text": [
      "100%|█████████████████████████████████| 100000/100000 [00:16<00:00, 6200.81it/s]\n"
     ]
    }
   ],
   "source": [
    "from tqdm import trange #progress bar->好看用\n",
    "epochs = 100000\n",
    "for epoch in trange(epochs):\n",
    "    optimizer.zero_grad()\n",
    "    output = model(data)\n",
    "    loss = criterion(output, label)\n",
    "    loss.backward() #反向傳播->numpy講義\n",
    "    optimizer.step()\n",
    "    #time.sleep(0.01)\n",
    "    #print(f'Epoch [{epoch + 1}/{epochs}], Loss: {loss.item():.4f}')\n"
   ]
  },
  {
   "cell_type": "code",
   "execution_count": 56,
   "id": "45b3b254-5419-477d-aaa1-4113ede29491",
   "metadata": {
    "tags": []
   },
   "outputs": [
    {
     "data": {
      "image/png": "[encoded data removed]",
      "text/plain": [
       "<Figure size 800x600 with 1 Axes>"
      ]
     },
     "metadata": {},
     "output_type": "display_data"
    }
   ],
   "source": [
    "#繪圖\n",
    "import matplotlib.pyplot as plt\n",
    "plt.figure(figsize=(8, 6))\n",
    "plt.scatter(data.numpy(), label.numpy(), color='b', label='Actual')  # 實際標籤點\n",
    "plt.scatter(data.numpy(), model(data).detach().numpy(), color='r', label='Predicted')  # 模型預測點\n",
    "plt.title('Actual vs Predicted')\n",
    "plt.xlabel('Input (x)')\n",
    "plt.ylabel('Output (y)')\n",
    "plt.legend()\n",
    "plt.grid(True)\n",
    "plt.show()"
   ]
  },
  {
   "cell_type": "markdown",
   "id": "74d78449-f68f-40bf-805a-ea0320bfb275",
   "metadata": {},
   "source": [
    "#### 常見的活化函數:\n",
    "剛剛沒用到，但這事讓神經網路更加厲害的關鍵(讓他非線性)\n",
    "numpy講義會畫出圖形來\n",
    "\n",
    "##### **Sigmoid**(處理二元分類): $$\\sigma(x) = \\frac{1}{1 + e^{-x}}$$\n",
    "\n",
    "##### **Tanh**(更陡的Sigmoid): $$tanh(x) = \\frac{e^x - e^{-x}}{e^x + e^{-x}}$$\n",
    "\n",
    "##### **ReLU**(去掉負號): $$\\text{ReLU}(x) = \\max(0, x)$$\n"
   ]
  },
  {
   "cell_type": "markdown",
   "id": "6bcd77ef-83fa-482e-af05-5cce5a903104",
   "metadata": {},
   "source": [
    "#### 加總:\n",
    "##### **Softmax**(多元分類): $$\\text{Softmax}(x_i) = \\frac{e^{x_i}}{\\sum_{j=1}^{K} e^{x_j}}$$"
   ]
  },
  {
   "cell_type": "code",
   "execution_count": 59,
   "id": "3b1817a2-253f-4175-97de-f5d90b76f8db",
   "metadata": {
    "tags": []
   },
   "outputs": [
    {
     "name": "stdout",
     "output_type": "stream",
     "text": [
      "tensor([0.2689, 0.5000, 0.7311])\n",
      "tensor([0.0000, 0.5000, 0.7311])\n",
      "tensor([[0.0900, 0.2447, 0.6652]])\n"
     ]
    }
   ],
   "source": [
    "# Create a sigmoid layer\n",
    "sigmoid_layer = nn.Sigmoid()\n",
    "\n",
    "# Create a tensor\n",
    "tensor = torch.tensor([-1.0, 0.0, 1.0])\n",
    "\n",
    "# Apply the sigmoid layer to the tensor\n",
    "sigmoid_output = sigmoid_layer(tensor)\n",
    "\n",
    "print(sigmoid_output)\n",
    "\n",
    "############################\n",
    "\n",
    "# Create a ReLU layer\n",
    "relu_layer = nn.ReLU()\n",
    "\n",
    "# Create a tensor\n",
    "tensor = torch.tensor([-100.0, 0.0, 1.0])\n",
    "\n",
    "# Apply the sigmoid layer to the tensor\n",
    "relu_output = sigmoid_layer(tensor)\n",
    "\n",
    "print(relu_output)\n",
    "\n",
    "############################\n",
    "\n",
    "# Create a Softmax layer\n",
    "softmax_layer = nn.Softmax(dim=1)  # 'dim' specifies the dimension along which Softmax will be computed\n",
    "\n",
    "# Create a tensor (for example, logits from a neural network's output)\n",
    "logits = torch.tensor([[1.0, 2.0, 3.0]])\n",
    "\n",
    "# Apply the Softmax layer to the logits\n",
    "softmax_output = softmax_layer(logits)\n",
    "\n",
    "print(softmax_output)\n"
   ]
  },
  {
   "cell_type": "markdown",
   "id": "30625a0a-d97d-4458-a13a-99cc1cae2b42",
   "metadata": {},
   "source": [
    "# XOR題目\n",
    "在神經網絡中，XOR（互斥或）問題是一個經典問題，它通常用來展示非線性分類的能力。XOR是一個簡單的二元輸入、一個輸出的函數，當且僅當一個輸入為1而另一個輸入為0時，輸出為1；否則輸出為0。這不能通過一個單一的線性模型來解決，因為XOR函數不是線性可分的，所以需要至少一個隱藏層的神經網絡。\n",
    "\n",
    "#### Hint:\n",
    "```python\n",
    "criterion = nn.MSELoss()\n",
    "optimizer = optim.SGD(net.parameters(), lr=0.1)\n",
    "\n",
    "data = torch.tensor([[0, 0], [0, 1], [1, 0], [1, 1]], dtype=torch.float)\n",
    "labels = torch.tensor([[0], [1], [1], [0]], dtype=torch.float)\n",
    "\n",
    "```"
   ]
  },
  {
   "cell_type": "markdown",
   "id": "cbeb13ac-3ed3-46cc-bbc9-de268fdb1d93",
   "metadata": {
    "jp-MarkdownHeadingCollapsed": true,
    "tags": []
   },
   "source": [
    "# 解答"
   ]
  },
  {
   "cell_type": "code",
   "execution_count": 60,
   "id": "67c24ec6-1008-4449-8b7f-56f6031200d7",
   "metadata": {
    "tags": []
   },
   "outputs": [
    {
     "name": "stdout",
     "output_type": "stream",
     "text": [
      "Epoch [0/1000] Loss: 1.607999324798584\n",
      "Epoch [100/1000] Loss: 0.2516259551048279\n",
      "Epoch [200/1000] Loss: 0.2511095106601715\n",
      "Epoch [300/1000] Loss: 0.2508012652397156\n",
      "Epoch [400/1000] Loss: 0.2506028711795807\n",
      "Epoch [500/1000] Loss: 0.25046780705451965\n",
      "Epoch [600/1000] Loss: 0.2503718137741089\n",
      "Epoch [700/1000] Loss: 0.2503012716770172\n",
      "Epoch [800/1000] Loss: 0.25024792551994324\n",
      "Epoch [900/1000] Loss: 0.25020673871040344\n",
      "Input: tensor([0., 0.]) Output: tensor([1.]) Label: tensor([0.])\n",
      "Input: tensor([0., 1.]) Output: tensor([0.]) Label: tensor([1.])\n",
      "Input: tensor([1., 0.]) Output: tensor([1.]) Label: tensor([1.])\n",
      "Input: tensor([1., 1.]) Output: tensor([0.]) Label: tensor([0.])\n"
     ]
    }
   ],
   "source": [
    "import torch\n",
    "import torch.nn as nn\n",
    "import torch.optim as optim\n",
    "\n",
    "# 定義網絡結構\n",
    "class XORNet(nn.Module):\n",
    "    def __init__(self):\n",
    "        super(XORNet, self).__init__()\n",
    "        self.fc1 = nn.Linear(2, 2)  # 兩個輸入到兩個隱藏神經元\n",
    "        self.fc2 = nn.Linear(2, 1)  # 兩個隱藏神經元到一個輸出\n",
    "\n",
    "    def forward(self, x):\n",
    "        x = torch.sigmoid(self.fc1(x))  # 使用 sigmoid 激活函數\n",
    "        x = self.fc2(x)\n",
    "        return x\n",
    "\n",
    "# 創建網絡實例\n",
    "net = XORNet()\n",
    "\n",
    "# 定義損失函數和優化器\n",
    "criterion = nn.MSELoss()  # 均方誤差損失\n",
    "optimizer = optim.SGD(net.parameters(), lr=0.1)  # 隨機梯度下降優化器\n",
    "\n",
    "# XOR 數據和標籤\n",
    "data = torch.tensor([[0, 0], [0, 1], [1, 0], [1, 1]], dtype=torch.float)\n",
    "labels = torch.tensor([[0], [1], [1], [0]], dtype=torch.float)\n",
    "\n",
    "# 訓練網絡\n",
    "for epoch in range(1000):  # 訓練1000次\n",
    "    optimizer.zero_grad()  # 清除之前的梯度\n",
    "    output = net(data)  # 前向傳播\n",
    "    loss = criterion(output, labels)  # 計算損失\n",
    "    loss.backward()  # 反向傳播\n",
    "    optimizer.step()  # 更新權重\n",
    "\n",
    "    if epoch % 100 == 0:\n",
    "        print(f'Epoch [{epoch}/1000] Loss: {loss.item()}')\n",
    "\n",
    "# 測試網絡\n",
    "with torch.no_grad():\n",
    "    for inputs, label in zip(data, labels):\n",
    "        output = net(inputs)\n",
    "        print(f'Input: {inputs} Output: {output.round()} Label: {label}')\n"
   ]
  },
  {
   "cell_type": "code",
   "execution_count": null,
   "id": "ac8279a7-145d-4c38-8ac8-d0cf11303345",
   "metadata": {},
   "outputs": [],
   "source": []
  }
 ],
 "metadata": {
  "kernelspec": {
   "display_name": "Python 3 (ipykernel)",
   "language": "python",
   "name": "python3"
  },
  "language_info": {
   "codemirror_mode": {
    "name": "ipython",
    "version": 3
   },
   "file_extension": ".py",
   "mimetype": "text/x-python",
   "name": "python",
   "nbconvert_exporter": "python",
   "pygments_lexer": "ipython3",
   "version": "3.10.12"
  }
 },
 "nbformat": 4,
 "nbformat_minor": 5
}
