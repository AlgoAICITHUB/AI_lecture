{
 "cells": [
  {
   "cell_type": "markdown",
   "id": "5f5f00f4-f005-427e-b16d-a1d402e299ef",
   "metadata": {
    "tags": []
   },
   "source": [
    "# 前言\n",
    "\n",
    "Pytorch是由Meta(Facebook)開發的架構，完整地表現了AI的網路，能讓人較容易學會NN在幹嘛?\n",
    "現在，就跟我一起往前進吧!!!"
   ]
  },
  {
   "cell_type": "markdown",
   "id": "6bb5abc4-af87-4d38-bdad-64d577a5d456",
   "metadata": {
    "jp-MarkdownHeadingCollapsed": true,
    "tags": []
   },
   "source": [
    "# 安裝"
   ]
  },
  {
   "cell_type": "code",
   "execution_count": 1,
   "id": "af9e1464-06dd-423e-b570-ca9214e0e2f5",
   "metadata": {
    "tags": []
   },
   "outputs": [
    {
     "name": "stdout",
     "output_type": "stream",
     "text": [
      "Requirement already satisfied: torch in /opt/conda/lib/python3.10/site-packages (2.3.1)\n",
      "Requirement already satisfied: filelock in /opt/conda/lib/python3.10/site-packages (from torch) (3.12.2)\n",
      "Requirement already satisfied: typing-extensions>=4.8.0 in /opt/conda/lib/python3.10/site-packages (from torch) (4.12.2)\n",
      "Requirement already satisfied: sympy in /opt/conda/lib/python3.10/site-packages (from torch) (1.12)\n",
      "Requirement already satisfied: networkx in /opt/conda/lib/python3.10/site-packages (from torch) (3.1)\n",
      "Requirement already satisfied: jinja2 in /opt/conda/lib/python3.10/site-packages (from torch) (3.1.2)\n",
      "Requirement already satisfied: fsspec in /opt/conda/lib/python3.10/site-packages (from torch) (2023.9.0)\n",
      "Requirement already satisfied: nvidia-cuda-nvrtc-cu12==12.1.105 in /opt/conda/lib/python3.10/site-packages (from torch) (12.1.105)\n",
      "Requirement already satisfied: nvidia-cuda-runtime-cu12==12.1.105 in /opt/conda/lib/python3.10/site-packages (from torch) (12.1.105)\n",
      "Requirement already satisfied: nvidia-cuda-cupti-cu12==12.1.105 in /opt/conda/lib/python3.10/site-packages (from torch) (12.1.105)\n",
      "Requirement already satisfied: nvidia-cudnn-cu12==8.9.2.26 in /opt/conda/lib/python3.10/site-packages (from torch) (8.9.2.26)\n",
      "Requirement already satisfied: nvidia-cublas-cu12==12.1.3.1 in /opt/conda/lib/python3.10/site-packages (from torch) (12.1.3.1)\n",
      "Requirement already satisfied: nvidia-cufft-cu12==11.0.2.54 in /opt/conda/lib/python3.10/site-packages (from torch) (11.0.2.54)\n",
      "Requirement already satisfied: nvidia-curand-cu12==10.3.2.106 in /opt/conda/lib/python3.10/site-packages (from torch) (10.3.2.106)\n",
      "Requirement already satisfied: nvidia-cusolver-cu12==11.4.5.107 in /opt/conda/lib/python3.10/site-packages (from torch) (11.4.5.107)\n",
      "Requirement already satisfied: nvidia-cusparse-cu12==12.1.0.106 in /opt/conda/lib/python3.10/site-packages (from torch) (12.1.0.106)\n",
      "Requirement already satisfied: nvidia-nccl-cu12==2.20.5 in /opt/conda/lib/python3.10/site-packages (from torch) (2.20.5)\n",
      "Requirement already satisfied: nvidia-nvtx-cu12==12.1.105 in /opt/conda/lib/python3.10/site-packages (from torch) (12.1.105)\n",
      "Requirement already satisfied: triton==2.3.1 in /opt/conda/lib/python3.10/site-packages (from torch) (2.3.1)\n",
      "Requirement already satisfied: nvidia-nvjitlink-cu12 in /opt/conda/lib/python3.10/site-packages (from nvidia-cusolver-cu12==11.4.5.107->torch) (12.5.40)\n",
      "Requirement already satisfied: MarkupSafe>=2.0 in /opt/conda/lib/python3.10/site-packages (from jinja2->torch) (2.1.3)\n",
      "Requirement already satisfied: mpmath>=0.19 in /opt/conda/lib/python3.10/site-packages (from sympy->torch) (1.3.0)\n",
      "\u001b[33mWARNING: Error parsing requirements for jsonschema: [Errno 2] No such file or directory: '/opt/conda/lib/python3.10/site-packages/jsonschema-4.17.3.dist-info/METADATA'\u001b[0m\u001b[33m\n",
      "\u001b[0m"
     ]
    }
   ],
   "source": [
    "!pip install torch"
   ]
  },
  {
   "cell_type": "markdown",
   "id": "277cb032-a5e2-4695-bc34-2600a4fbafd9",
   "metadata": {
    "tags": []
   },
   "source": [
    "# 基礎張量"
   ]
  },
  {
   "cell_type": "code",
   "execution_count": 3,
   "id": "6d56e29d-2fc5-4afd-846e-4b7b56613466",
   "metadata": {
    "tags": []
   },
   "outputs": [
    {
     "data": {
      "text/plain": [
       "tensor([[0., 0., 0.],\n",
       "        [0., 0., 0.]])"
      ]
     },
     "execution_count": 3,
     "metadata": {},
     "output_type": "execute_result"
    }
   ],
   "source": [
    "import torch\n",
    "\n",
    "# 創建一個未初始化的 2x3 張量\n",
    "x = torch.empty(2, 3)\n",
    "\n",
    "x"
   ]
  },
  {
   "cell_type": "code",
   "execution_count": 4,
   "id": "949b3319-68b6-47c5-a4a5-4be7828aa2aa",
   "metadata": {
    "tags": []
   },
   "outputs": [
    {
     "data": {
      "text/plain": [
       "tensor([[0.2680, 0.0484, 0.4295],\n",
       "        [0.0565, 0.1448, 0.6366]])"
      ]
     },
     "execution_count": 4,
     "metadata": {},
     "output_type": "execute_result"
    }
   ],
   "source": [
    "# 創建一個隨機初始化的張量\n",
    "x = torch.rand(2, 3)\n",
    "x"
   ]
  },
  {
   "cell_type": "code",
   "execution_count": 5,
   "id": "9336cc30-b7f7-4e38-9387-d17a108bf47c",
   "metadata": {
    "tags": []
   },
   "outputs": [
    {
     "data": {
      "text/plain": [
       "tensor([[0, 0, 0],\n",
       "        [0, 0, 0]])"
      ]
     },
     "execution_count": 5,
     "metadata": {},
     "output_type": "execute_result"
    }
   ],
   "source": [
    "# 創建一個全是 0 的張量，數據類型為 long\n",
    "x = torch.zeros(2, 3, dtype=torch.long)\n",
    "x"
   ]
  },
  {
   "cell_type": "code",
   "execution_count": 6,
   "id": "c00a5cc8-dd30-4eba-ba93-5ae6715a3e95",
   "metadata": {
    "tags": []
   },
   "outputs": [
    {
     "data": {
      "text/plain": [
       "tensor([5.5000, 3.0000])"
      ]
     },
     "execution_count": 6,
     "metadata": {},
     "output_type": "execute_result"
    }
   ],
   "source": [
    "# 創建一個張量並直接使用數據\n",
    "x = torch.tensor([5.5, 3])\n",
    "x"
   ]
  },
  {
   "cell_type": "code",
   "execution_count": 7,
   "id": "311d4ff0-f79b-4901-bf3d-07deaceba1a2",
   "metadata": {
    "tags": []
   },
   "outputs": [
    {
     "data": {
      "text/plain": [
       "tensor([ 0.4835, -2.0128])"
      ]
     },
     "execution_count": 7,
     "metadata": {},
     "output_type": "execute_result"
    }
   ],
   "source": [
    "# 創建一個和 x 相同的張量，但是使用隨機數填充\n",
    "x = torch.randn_like(x, dtype=torch.float)    # 覆寫 dtype!\n",
    "randn_like_output = f\"x大小，隨機:{x}\"\n",
    "x"
   ]
  },
  {
   "cell_type": "markdown",
   "id": "f41fec5a-af80-470c-9886-d8585a75eab6",
   "metadata": {
    "tags": []
   },
   "source": [
    "## 張量處理"
   ]
  },
  {
   "cell_type": "code",
   "execution_count": 3,
   "id": "ee7f6a70-730a-4d07-b4ff-de29cee1a8ab",
   "metadata": {
    "tags": []
   },
   "outputs": [
    {
     "name": "stdout",
     "output_type": "stream",
     "text": [
      "torch.Size([3, 4])\n",
      "torch.float32\n",
      "cpu\n",
      "tensor([[0.4512, 0.1524, 0.0374, 0.9936],\n",
      "        [0.4007, 0.9776, 0.9304, 0.1610],\n",
      "        [0.3495, 0.2369, 0.2775, 0.3032]]) tensor([[0.4512, 0.1524, 0.0374, 0.9936],\n",
      "        [0.4007, 0.9776, 0.9304, 0.1610],\n",
      "        [0.3495, 0.2369, 0.2775, 0.3032]])\n"
     ]
    }
   ],
   "source": [
    "x = torch.rand(3, 4)\n",
    "print(x.size())   # 形狀\n",
    "print(x.dtype)    # 數據類型\n",
    "print(x.device)   # 存儲設備\n",
    "y = x.clone()\n",
    "print(y,x)"
   ]
  },
  {
   "cell_type": "code",
   "execution_count": 4,
   "id": "a3fcbac7-4f99-4237-a6ca-77e7ad1fc4a3",
   "metadata": {
    "tags": []
   },
   "outputs": [
    {
     "name": "stdout",
     "output_type": "stream",
     "text": [
      "tensor([0.5753, 0.6225, 0.5448])\n",
      "tensor([0.9451, 0.5753, 0.2851, 0.1151])\n",
      "tensor([[0.9451, 0.5753, 0.2851, 0.1151],\n",
      "        [0.8032, 0.6225, 0.0000, 0.2339],\n",
      "        [0.4523, 0.5448, 0.2619, 0.0962]])\n"
     ]
    }
   ],
   "source": [
    "x = torch.rand(3, 4)\n",
    "print(x[:, 1])  # 第二列的所有元素\n",
    "print(x[0, :])  # 第一行的所有元素\n",
    "x[1,2] = 0      # 修改特定位置的元素\n",
    "print(x)"
   ]
  },
  {
   "cell_type": "code",
   "execution_count": 5,
   "id": "ce67c14b-811a-49b4-9c4a-6716c3a41639",
   "metadata": {
    "tags": []
   },
   "outputs": [],
   "source": [
    "y = x.view(12)    # 將 x 重塑為 12 個元素的一維張量\n",
    "z = x.view(-1, 6) # -1 表示該維度的大小由其他維度的大小推導出來\n"
   ]
  },
  {
   "cell_type": "code",
   "execution_count": 9,
   "id": "8e53ebf1-8482-4934-b1cd-e0e3bf19b2f3",
   "metadata": {
    "tags": []
   },
   "outputs": [
    {
     "data": {
      "text/plain": [
       "(tensor([[-1.3119, -1.1079, -1.5299,  0.9734],\n",
       "         [ 1.1860,  0.6813, -0.4118, -0.1526],\n",
       "         [-0.2772, -0.3995,  1.4694,  0.0435],\n",
       "         [ 0.4814, -0.0281, -0.5753, -0.1271]]),\n",
       " tensor([-1.3119, -1.1079, -1.5299,  0.9734,  1.1860,  0.6813, -0.4118, -0.1526,\n",
       "         -0.2772, -0.3995,  1.4694,  0.0435,  0.4814, -0.0281, -0.5753, -0.1271]),\n",
       " tensor([-1.3119, -1.1079, -1.5299,  0.9734,  1.1860,  0.6813, -0.4118, -0.1526,\n",
       "         -0.2772, -0.3995,  1.4694,  0.0435,  0.4814, -0.0281, -0.5753, -0.1271]))"
      ]
     },
     "execution_count": 9,
     "metadata": {},
     "output_type": "execute_result"
    }
   ],
   "source": [
    "x = torch.randn(4, 4)\n",
    "y = x.view(16)        # 只有當 x 是連續的時候才有效\n",
    "z = x.reshape(16)     # 總是有效，但可能會創建數據副本\n",
    "x,y,z"
   ]
  },
  {
   "cell_type": "markdown",
   "id": "d1a5ab65-6353-4d8d-aae1-5077edf91327",
   "metadata": {
    "tags": []
   },
   "source": [
    "## 張量數學"
   ]
  },
  {
   "cell_type": "code",
   "execution_count": 10,
   "id": "9b3a3124-ba7c-45d6-ae79-7ad5195ad0d4",
   "metadata": {
    "tags": []
   },
   "outputs": [],
   "source": [
    "x = torch.tensor([1,2,3,4,5,6,7,8])\n",
    "y = torch.tensor([2,4,6,8,10,12,14,16])"
   ]
  },
  {
   "cell_type": "code",
   "execution_count": 11,
   "id": "0e1febfc-5a91-4ef1-b624-5eb51653c3ed",
   "metadata": {
    "tags": []
   },
   "outputs": [
    {
     "name": "stdout",
     "output_type": "stream",
     "text": [
      "tensor([ 3,  6,  9, 12, 15, 18, 21, 24])\n",
      "tensor([ 3,  6,  9, 12, 15, 18, 21, 24])\n",
      "tensor([  3,  12,  27,  48,  75, 108, 147, 192])\n",
      "tensor([ 1,  4,  9, 16, 25, 36, 49, 64])\n"
     ]
    }
   ],
   "source": [
    "# 加法\n",
    "print(x + y)\n",
    "\n",
    "# in-place 加法\n",
    "y.add_(x) #直接修改y\n",
    "print(y)\n",
    "# 乘法\n",
    "print(x * y)\n",
    "\n",
    "# 平方\n",
    "print(x.pow(2))\n"
   ]
  },
  {
   "cell_type": "markdown",
   "id": "0cf35848-832f-49dc-b1a7-50510bc82d2d",
   "metadata": {},
   "source": [
    "## 線性代數"
   ]
  },
  {
   "cell_type": "markdown",
   "id": "74ef96a5-0cda-47c7-acf1-bd172a4e9bf9",
   "metadata": {
    "tags": []
   },
   "source": [
    "## 張量廣播\n",
    "當對不同形狀的張量進行運算時，PyTorch 可以自動 \"廣播\" 較小的張量以匹配較大的張量的形狀\n"
   ]
  },
  {
   "cell_type": "markdown",
   "id": "dd93e638-a6a3-4dfd-a1d4-0c4035908fc3",
   "metadata": {
    "tags": []
   },
   "source": [
    "## 堆疊與連接"
   ]
  },
  {
   "cell_type": "code",
   "execution_count": 12,
   "id": "1da30af5-94ab-464f-9de5-2ca9215378f8",
   "metadata": {
    "tags": []
   },
   "outputs": [
    {
     "data": {
      "text/plain": [
       "tensor([[0.3310, 0.5281, 0.9692],\n",
       "        [0.7759, 0.7876, 0.5859],\n",
       "        [0.1673, 0.2953, 0.9126],\n",
       "        [0.2098, 0.6891, 0.7602]])"
      ]
     },
     "execution_count": 12,
     "metadata": {},
     "output_type": "execute_result"
    }
   ],
   "source": [
    "x = torch.rand(2, 3)\n",
    "y = torch.rand(2, 3)\n",
    "combined = torch.cat([x, y], dim=0)  # 沿著第一維度連接\n",
    "combined    #dim=0 會沿著行的方向連接張量，也就是增加行的數量。dim=1 會沿著列的方向連接張量，也就是增加列的數量。"
   ]
  },
  {
   "cell_type": "code",
   "execution_count": 13,
   "id": "f97ade91-2d12-4e8d-971b-d3293e27cb5c",
   "metadata": {
    "tags": []
   },
   "outputs": [
    {
     "data": {
      "text/plain": [
       "tensor([[[0.3310, 0.5281, 0.9692],\n",
       "         [0.7759, 0.7876, 0.5859]],\n",
       "\n",
       "        [[0.1673, 0.2953, 0.9126],\n",
       "         [0.2098, 0.6891, 0.7602]]])"
      ]
     },
     "execution_count": 13,
     "metadata": {},
     "output_type": "execute_result"
    }
   ],
   "source": [
    "stacked = torch.stack([x, y], dim=0) # 創建一個新的維度並堆疊\n",
    "stacked"
   ]
  },
  {
   "cell_type": "markdown",
   "id": "32a6f8cc-cc44-45f4-9d00-0f9bb6d7fd4c",
   "metadata": {
    "jp-MarkdownHeadingCollapsed": true,
    "tags": []
   },
   "source": [
    "# 考試1"
   ]
  },
  {
   "cell_type": "markdown",
   "id": "b32b2ce1-00ad-4cea-85df-dd244dc31822",
   "metadata": {
    "tags": []
   },
   "source": [
    "### 問題 1\n",
    "當你想要創建一個形狀為 5x7 的張量，所有元素都設置為 1，且數據類型為浮點數時，你會使用哪個 PyTorch 函數？\n",
    "\n",
    "A) `torch.zeros(5, 7, dtype=torch.float)`\n",
    "B) `torch.ones(5, 7, dtype=torch.float)`\n",
    "C) `torch.tensor(5, 7, dtype=torch.float)`\n",
    "D) `torch.fill_(5, 7, dtype=torch.float)`\n",
    "\n",
    "### 問題 2\n",
    "如果你有一個形狀為 3x4 的張量 `x`，你想要獲取第二行的所有元素，你應該如何索引 `x`？\n",
    "\n",
    "A) `x[1, :]`\n",
    "B) `x[:, 1]`\n",
    "C) `x[2, :]`\n",
    "D) `x[:, 2]`\n",
    "\n",
    "### 問題 3\n",
    "`torch.view` 和 `torch.reshape` 在功能上有什麼區別？\n",
    "\n",
    "A) `torch.view` 可以操作非連續張量，而 `torch.reshape` 不可以。\n",
    "B) `torch.reshape` 可以操作非連續張量，而 `torch.view` 不可以。\n",
    "C) 沒有區別，它們是完全相同的。\n",
    "D) `torch.view` 是更舊的 API，而 `torch.reshape` 是新添加的。\n",
    "\n",
    "### 問題 4\n",
    "當你想要在內存中改變一個張量的形狀而不創建新的數據副本時，你應該使用哪種操作？\n",
    "\n",
    "A) In-place operation\n",
    "B) Out-of-place operation\n",
    "C) Broadcast operation\n",
    "D) None of the above\n",
    "\n",
    "### 問題 5\n",
    "假設 `x` 是一個形狀為 `(2, 3)` 的張量，`y` 是一個形狀為 `(2, 3)` 的張量。如何使用 PyTorch 把這兩個張量合併成一個形狀為 `(2, 6)` 的張量？\n",
    "\n",
    "A) `torch.cat((x, y), dim=0)`\n",
    "B) `torch.stack((x, y), dim=1)`\n",
    "C) `torch.cat((x, y), dim=1)`\n",
    "D) `torch.stack((x, y), dim=0)`\n"
   ]
  },
  {
   "cell_type": "markdown",
   "id": "510d3d43-69ce-40d2-a3a8-67d0987ef2ab",
   "metadata": {
    "jp-MarkdownHeadingCollapsed": true,
    "tags": []
   },
   "source": [
    "### ANS"
   ]
  },
  {
   "cell_type": "code",
   "execution_count": 34,
   "id": "e766194b-f0be-4457-9779-98cbf48b2f2a",
   "metadata": {
    "tags": []
   },
   "outputs": [],
   "source": [
    "#A1\n",
    "#B 略"
   ]
  },
  {
   "cell_type": "code",
   "execution_count": 35,
   "id": "9c323795-31a9-4591-a1f9-d7f07a4ecc2f",
   "metadata": {
    "tags": []
   },
   "outputs": [
    {
     "name": "stdout",
     "output_type": "stream",
     "text": [
      "tensor([[ 1,  2,  3],\n",
      "        [ 4,  5,  6],\n",
      "        [ 7,  8,  9],\n",
      "        [10, 11, 12]])\n"
     ]
    },
    {
     "data": {
      "text/plain": [
       "tensor([4, 5, 6])"
      ]
     },
     "execution_count": 35,
     "metadata": {},
     "output_type": "execute_result"
    }
   ],
   "source": [
    "#A2\n",
    "x = torch.tensor([[1,2,3],[4,5,6],[7,8,9],[10,11,12]])\n",
    "print(x) #答案應該是A\n",
    "x[1,:]"
   ]
  },
  {
   "cell_type": "code",
   "execution_count": 36,
   "id": "eff0ddbb-0b5f-43ac-8050-fab781bab6bf",
   "metadata": {
    "tags": []
   },
   "outputs": [],
   "source": [
    "#A3\n",
    "#B, 略"
   ]
  },
  {
   "cell_type": "code",
   "execution_count": 37,
   "id": "d100fd71-e37d-4034-91e3-e8687bfce3c3",
   "metadata": {
    "tags": []
   },
   "outputs": [],
   "source": [
    "#A4\n",
    "#A,略"
   ]
  },
  {
   "cell_type": "code",
   "execution_count": 38,
   "id": "147beef9-64a5-4ace-85fb-88a86ea32391",
   "metadata": {
    "tags": []
   },
   "outputs": [
    {
     "data": {
      "text/plain": [
       "(torch.Size([2, 3]), torch.Size([2, 3]), torch.Size([2, 6]))"
      ]
     },
     "execution_count": 38,
     "metadata": {},
     "output_type": "execute_result"
    }
   ],
   "source": [
    "#A5\n",
    "x = torch.rand(2,3)\n",
    "y = torch.rand(2,3)\n",
    "z = torch.cat((x,y),dim=1)\n",
    "x.size(),y.size(),z.size()"
   ]
  },
  {
   "cell_type": "markdown",
   "id": "7ccc0626-831b-4580-b9eb-768f3490cf86",
   "metadata": {
    "tags": []
   },
   "source": [
    "# 微分\n",
    "$$\n",
    "\\ y = lim_{{Δx \\to 0}} \\frac{{f(x+Δx  ) - f(x)}}{Δx}\n",
    "$$"
   ]
  },
  {
   "cell_type": "markdown",
   "id": "26154469-1a8f-4bef-a954-b6c82465420f",
   "metadata": {},
   "source": [
    "## 自動微分(Autograd)"
   ]
  },
  {
   "cell_type": "code",
   "execution_count": 11,
   "id": "63e9b38d-e599-44c0-bca7-16ad51ba96a1",
   "metadata": {
    "tags": []
   },
   "outputs": [
    {
     "data": {
      "image/png": "[encoded data removed]",
      "text/plain": [
       "<Figure size 1000x400 with 2 Axes>"
      ]
     },
     "metadata": {},
     "output_type": "display_data"
    }
   ],
   "source": [
    "import torch\n",
    "import matplotlib.pyplot as plt\n",
    "\n",
    "# 設定張量 x 為需要計算梯度的變量\n",
    "x = torch.linspace(-10, 10, steps=100, requires_grad=True)\n",
    "\n",
    "# 定義函數 f(x) = x^2\n",
    "f = x ** 2\n",
    "\n",
    "# 計算函數 f 在 x 上的導數（速度）\n",
    "v, = torch.autograd.grad(f, x, grad_outputs=torch.ones_like(f), create_graph=True)\n",
    "\n",
    "# 計算速度 v 在 x 上的導數（加速度）\n",
    "a, = torch.autograd.grad(v, x, grad_outputs=torch.ones_like(v), create_graph=True)\n",
    "\n",
    "# 將 x, v, a 從張量轉換為 numpy 陣列，以便繪圖\n",
    "x = x.detach().numpy()\n",
    "v = v.detach().numpy()\n",
    "a = a.detach().numpy()\n",
    "\n",
    "# 繪製速度-時間圖\n",
    "plt.figure(figsize=(10, 4))\n",
    "plt.subplot(1, 2, 1)\n",
    "plt.plot(x, v, label='Speed')\n",
    "plt.title('Speed vs. Time')\n",
    "plt.xlabel('Time')\n",
    "plt.ylabel('Speed')\n",
    "plt.legend()\n",
    "plt.grid(True)\n",
    "\n",
    "# 繪製加速度-時間圖\n",
    "plt.subplot(1, 2, 2)\n",
    "plt.plot(x, a, label='Acceleration')\n",
    "plt.title('Acceleration vs. Time')\n",
    "plt.xlabel('Time')\n",
    "plt.ylabel('Acceleration')\n",
    "plt.legend()\n",
    "plt.grid(True)\n",
    "\n",
    "# 顯示圖表\n",
    "plt.tight_layout()\n",
    "plt.show()\n"
   ]
  },
  {
   "cell_type": "code",
   "execution_count": 40,
   "id": "77d22a7f-2fab-4af4-8204-00ce9bae2eda",
   "metadata": {
    "tags": []
   },
   "outputs": [
    {
     "name": "stdout",
     "output_type": "stream",
     "text": [
      "tensor([36., 81.])\n",
      "tensor([-12.,  -8.])\n"
     ]
    },
    {
     "data": {
      "text/plain": [
       "'當調用 .backward() 時，PyTorch 會計算這些梯度，並將它們儲存在對應的 .grad 屬性中。在上述例子中，我們對每個元素計算了 Q 的梯度。由於 Q 不是一個標量，我們需要傳遞一個與 Q 形狀相同的張量作為參數給 backward，這個張量表示對 Q 的梯度。'"
      ]
     },
     "execution_count": 40,
     "metadata": {},
     "output_type": "execute_result"
    }
   ],
   "source": [
    "import torch\n",
    "\n",
    "# 創建兩個張量並設置 requires_grad=True 來追踪其計算歷史\n",
    "a = torch.tensor([2., 3.], requires_grad=True)\n",
    "b = torch.tensor([6., 4.], requires_grad=True)\n",
    "\n",
    "# 進行一些操作\n",
    "Q = 3*a**3 - b**2\n",
    "\n",
    "# 假設 Q 是一個損失函數，我們想要對損失函數求導數（梯度）\n",
    "Q.backward(torch.tensor([1., 1.]))\n",
    "\n",
    "# 現在，a和b的梯度將會累積到 a.grad 和 b.grad 中\n",
    "print(a.grad)\n",
    "print(b.grad)\n",
    "\n",
    "'''當調用 .backward() 時，PyTorch 會計算這些梯度，並將它們儲存在對應的 .grad 屬性中。在上述例子中，我們對每個元素計算了 Q 的梯度。由於 Q 不是一個標量，我們需要傳遞一個與 Q 形狀相同的張量作為參數給 backward，這個張量表示對 Q 的梯度。'''"
   ]
  },
  {
   "cell_type": "code",
   "execution_count": 41,
   "id": "cebe4ab5-b770-46be-a405-565a02a94fec",
   "metadata": {
    "tags": []
   },
   "outputs": [
    {
     "name": "stdout",
     "output_type": "stream",
     "text": [
      "tensor([4., 5., 6.])\n",
      "tensor([1., 2., 3.])\n"
     ]
    }
   ],
   "source": [
    "import torch\n",
    "\n",
    "# 創建兩個張量，設置 requires_grad=True 來追蹤它們的計算\n",
    "x = torch.tensor([1.0, 2.0, 3.0], requires_grad=True)\n",
    "y = torch.tensor([4.0, 5.0, 6.0], requires_grad=True)\n",
    "\n",
    "# 進行一些操作\n",
    "z = x * y\n",
    "s = z.sum()\n",
    "\n",
    "# 現在 s 是關於 x 和 y 的函數的結果\n",
    "# s.backward() 將會計算 s 相對於 x 和 y 的梯度\n",
    "s.backward()\n",
    "\n",
    "# 顯示梯度\n",
    "print(x.grad)  # ds/dx\n",
    "print(y.grad)  # ds/dy\n"
   ]
  },
  {
   "cell_type": "markdown",
   "id": "192eafd5-6393-48c9-8c06-cc58b2779974",
   "metadata": {
    "tags": []
   },
   "source": [
    "# 線性代數和矩陣操作"
   ]
  },
  {
   "cell_type": "markdown",
   "id": "f15ec005-694b-487b-974a-2893415b66cb",
   "metadata": {},
   "source": [
    "### 矩陣處理"
   ]
  },
  {
   "cell_type": "code",
   "execution_count": 42,
   "id": "c4805bf1-58f0-44ba-a892-85026421fd04",
   "metadata": {
    "tags": []
   },
   "outputs": [
    {
     "name": "stdout",
     "output_type": "stream",
     "text": [
      "tensor([[1., 3.],\n",
      "        [2., 4.]])\n",
      "tensor([[1., 3.],\n",
      "        [2., 4.]])\n",
      "tensor([[True, True],\n",
      "        [True, True]])\n"
     ]
    }
   ],
   "source": [
    "# 創建一個矩陣\n",
    "m = torch.tensor([[1, 2], [3, 4]], dtype=torch.float)\n",
    "\n",
    "# 轉置矩陣\n",
    "m_transpose = m.t()\n",
    "m_t = m.transpose(0, 1)\n",
    "print(m_transpose)\n",
    "print(m_t)\n",
    "\n",
    "print(m_transpose == m_t)"
   ]
  },
  {
   "cell_type": "code",
   "execution_count": 43,
   "id": "a0ea9e4c-55b9-4072-8860-72823afd32cb",
   "metadata": {
    "tags": []
   },
   "outputs": [
    {
     "name": "stdout",
     "output_type": "stream",
     "text": [
      "tensor([[1., 2.],\n",
      "        [3., 4.]]) tensor([[1., 2.],\n",
      "        [3., 4.]])\n"
     ]
    },
    {
     "data": {
      "text/plain": [
       "tensor([[ 7., 10.],\n",
       "        [15., 22.]])"
      ]
     },
     "execution_count": 43,
     "metadata": {},
     "output_type": "execute_result"
    }
   ],
   "source": [
    "m1 = torch.tensor([[1, 2], [3, 4]], dtype=torch.float)\n",
    "m2 = torch.tensor([[1, 2], [3, 4]], dtype=torch.float)\n",
    "print(m1, m2)\n",
    "\n",
    "\n",
    "m1 @ m2 #矩陣乘法"
   ]
  },
  {
   "cell_type": "code",
   "execution_count": 44,
   "id": "1bd28559-08ed-4d23-9ffb-3aeb1c26f0c4",
   "metadata": {
    "tags": []
   },
   "outputs": [
    {
     "data": {
      "text/plain": [
       "tensor([[-2.0000,  1.0000],\n",
       "        [ 1.5000, -0.5000]])"
      ]
     },
     "execution_count": 44,
     "metadata": {},
     "output_type": "execute_result"
    }
   ],
   "source": [
    "# 創建一個方陣\n",
    "m = torch.tensor([[1, 2], [3, 4]], dtype=torch.float)\n",
    "\n",
    "# 求逆，在線性代數中，一個矩陣的逆是指一個特別的矩陣，當它與原矩陣相乘時，結果是單位矩陣（對角線為1，其餘為0的矩陣）。只有方陣（行數和列數相等的矩陣）才可能有逆，且不是所有的方陣都有逆。一個矩陣如果有逆，則稱該矩陣為可逆的或非奇異的。\n",
    "m_inv = torch.inverse(m)\n",
    "m_inv"
   ]
  },
  {
   "cell_type": "markdown",
   "id": "7a35fb3c-d181-4734-be63-31f9956f9f05",
   "metadata": {},
   "source": [
    "### 線性代數"
   ]
  },
  {
   "cell_type": "code",
   "execution_count": 45,
   "id": "103515cf-e56b-40d7-addd-781f4f645e63",
   "metadata": {
    "tags": []
   },
   "outputs": [
    {
     "name": "stdout",
     "output_type": "stream",
     "text": [
      "Solution x:\n",
      " tensor([[-4.0000],\n",
      "        [ 4.5000]])\n"
     ]
    }
   ],
   "source": [
    "# 方程組的係數矩陣和常數項\n",
    "A = torch.tensor([[1, 2], [3, 4]], dtype=torch.float)\n",
    "b = torch.tensor([[5], [6]], dtype=torch.float)\n",
    "\n",
    "# 求解 Ax = b\n",
    "x = torch.linalg.solve(A, b)\n",
    "\n",
    "# 顯示解\n",
    "print(\"Solution x:\\n\", x)\n"
   ]
  },
  {
   "cell_type": "code",
   "execution_count": 46,
   "id": "6a44944d-43e7-48c2-8faa-743b1aaff8ca",
   "metadata": {
    "tags": []
   },
   "outputs": [
    {
     "data": {
      "image/png": "[encoded data removed]",
      "text/plain": [
       "<Figure size 640x480 with 1 Axes>"
      ]
     },
     "metadata": {},
     "output_type": "display_data"
    }
   ],
   "source": [
    "import torch\n",
    "import numpy as np\n",
    "import matplotlib.pyplot as plt\n",
    "\n",
    "# 方程組的係數矩陣和常數項\n",
    "A = torch.tensor([[1, 2], [3, 4]], dtype=torch.float)\n",
    "b = torch.tensor([[5], [6]], dtype=torch.float)\n",
    "\n",
    "# 求解 Ax = b\n",
    "x = torch.linalg.solve(A, b)\n",
    "\n",
    "# 準備繪圖\n",
    "x_values = np.linspace(0, 3, 400)  # 生成一系列的 x 值\n",
    "y1 = (5 - x_values) / 2  # 第一個方程對應的 y 值\n",
    "y2 = (6 - 3 * x_values) / 4  # 第二個方程對應的 y 值\n",
    "\n",
    "# 繪製直線\n",
    "plt.plot(x_values, y1, label='x + 2y = 5')\n",
    "plt.plot(x_values, y2, label='3x + 4y = 6')\n",
    "\n",
    "# 繪製解的位置\n",
    "plt.plot(x[0, 0], x[1, 0], 'ro', label='Solution (x, y)')  # 解的位置\n",
    "\n",
    "# 設置圖表標題和標籤\n",
    "plt.title('Solution of the system of equations')\n",
    "plt.xlabel('x')\n",
    "plt.ylabel('y')\n",
    "plt.legend()\n",
    "plt.grid(True)\n",
    "plt.show()\n"
   ]
  },
  {
   "cell_type": "markdown",
   "id": "80898659-8352-4543-ab71-72e7839a5b03",
   "metadata": {},
   "source": [
    "# 考試2\n",
    "### 問題 1\n",
    "給定一個變量 `x` 是一個形狀為 `(3,)` 的張量，並且 `x.requires_grad` 被設置為 `True`。考慮函數 \\( f(x) = x^2 \\)。使用 PyTorch 的自動微分系統計算 \\( f(x) \\) 在 \\( x = [1, 2, 3] \\) 處的梯度。\n",
    "\n",
    "### 問題 2\n",
    "給定兩個矩陣 \\( A \\) 和 \\( B \\) ，\n",
    "\n",
    "\\\n",
    " \\begin{bmatrix}\n",
    "1 & 2 \\\\\n",
    "3 & 4\n",
    "\\end{bmatrix},  \\begin{bmatrix}\n",
    "5 & 6 \\\\\n",
    "7 & 8\n",
    "\\end{bmatrix}\n",
    "\n",
    "\n",
    "使用 PyTorch 計算矩陣 \\( A \\) 和 \\( B \\) 的乘積。\n",
    "\n",
    "### 問題 3\n",
    "給定一個方程組 \\( Ax = b \\)，其中\n",
    "\n",
    "\\\\begin{bmatrix}\n",
    "1 & 2 \\\\\n",
    "3 & 4\n",
    "\\end{bmatrix},   \\begin{bmatrix}\n",
    "5 \\\\\n",
    "11\n",
    "\\end{bmatrix}\n",
    "\n",
    "\n",
    "使用 PyTorch 中的線性代數函數求解 \\( x \\)。\n",
    "\n",
    "### 問題 4\n",
    "考慮矩陣 \\( M \\) 和向量 \\( v \\)，\n",
    "\n",
    " \\begin{bmatrix}\n",
    "1 & 2 & 3 \\\\\n",
    "4 & 5 & 6 \\\\\n",
    "7 & 8 & 9\n",
    "\\end{bmatrix},  \\begin{bmatrix}\n",
    "1 \\\\\n",
    "1 \\\\\n",
    "1\n",
    "\\end{bmatrix}\n",
    "\n",
    "\n",
    "使用 PyTorch 計算 \\( M \\) 的轉置乘以向量 \\( v \\)。\n"
   ]
  },
  {
   "cell_type": "markdown",
   "id": "7d7a19d2-1c0a-40ac-8b1a-60fc4da9b65d",
   "metadata": {
    "tags": []
   },
   "source": [
    "## ANS"
   ]
  },
  {
   "cell_type": "code",
   "execution_count": 19,
   "id": "ee0fbc82-230b-4bd6-87c9-9136ac82ea5d",
   "metadata": {
    "tags": []
   },
   "outputs": [
    {
     "data": {
      "text/plain": [
       "tensor([2., 4., 6.])"
      ]
     },
     "execution_count": 19,
     "metadata": {},
     "output_type": "execute_result"
    }
   ],
   "source": [
    "#1\n",
    "# 創建一個張量 x\n",
    "x = torch.tensor([1.0, 2.0, 3.0], requires_grad=True)\n",
    "\n",
    "# 定義函數 f(x) = x^2\n",
    "f_x = x ** 2\n",
    "\n",
    "# 計算在 x = [1, 2, 3] 處的 f(x)\n",
    "f_x.backward(torch.ones_like(x))  # 由於 f_x 是一個向量，我們需要給backward()傳遞一個與 f_x 相同形狀的張量\n",
    "\n",
    "# 梯度將儲存在 x.grad 中\n",
    "x.grad\n"
   ]
  },
  {
   "cell_type": "code",
   "execution_count": 20,
   "id": "afcacd45-fa39-41ad-9014-27b8b894826c",
   "metadata": {
    "tags": []
   },
   "outputs": [
    {
     "data": {
      "text/plain": [
       "tensor([38., 54.])"
      ]
     },
     "execution_count": 20,
     "metadata": {},
     "output_type": "execute_result"
    }
   ],
   "source": [
    "#2\n",
    "a = torch.tensor([[1, 2], [3, 4]], dtype=torch.float)\n",
    "b = torch.tensor([5,11], dtype=torch.float )\n",
    "\n",
    "a_t = a.t()\n",
    "a_t @ b"
   ]
  },
  {
   "cell_type": "code",
   "execution_count": 21,
   "id": "8aea1e6b-be0d-48d8-8a04-a1fd53a2b998",
   "metadata": {
    "tags": []
   },
   "outputs": [
    {
     "data": {
      "text/plain": [
       "tensor([[ 6.5000],\n",
       "        [-0.5000]])"
      ]
     },
     "execution_count": 21,
     "metadata": {},
     "output_type": "execute_result"
    }
   ],
   "source": [
    "#3\n",
    "# 定義方程組的係數矩陣 A 和常數項 b\n",
    "A = torch.tensor([[1, 3], [2, 4]], dtype=torch.float)\n",
    "b = torch.tensor([[5], [11]], dtype=torch.float)\n",
    "\n",
    "# 使用 PyTorch 的線性代數函數求解 x\n",
    "x = torch.linalg.solve(A, b)\n",
    "\n",
    "x\n"
   ]
  },
  {
   "cell_type": "code",
   "execution_count": 22,
   "id": "81743305-aece-4734-95e8-e4ffc9238a14",
   "metadata": {
    "tags": []
   },
   "outputs": [
    {
     "data": {
      "text/plain": [
       "tensor([12., 15., 18.])"
      ]
     },
     "execution_count": 22,
     "metadata": {},
     "output_type": "execute_result"
    }
   ],
   "source": [
    "#4\n",
    "# 創建一個矩陣\n",
    "m = torch.tensor([[1, 2, 3], [4, 5, 6], [7, 8, 9]], dtype=torch.float)\n",
    "\n",
    "v = torch.tensor([1,1,1], dtype=torch.float)\n",
    "# 轉置矩陣\n",
    "m_t = m.t()\n",
    "m_t @ v"
   ]
  },
  {
   "cell_type": "code",
   "execution_count": null,
   "id": "a1f636df-a0b7-4ae5-8de0-5fe9a38ddc43",
   "metadata": {},
   "outputs": [],
   "source": []
  }
 ],
 "metadata": {
  "kernelspec": {
   "display_name": "Python 3 (ipykernel)",
   "language": "python",
   "name": "python3"
  },
  "language_info": {
   "codemirror_mode": {
    "name": "ipython",
    "version": 3
   },
   "file_extension": ".py",
   "mimetype": "text/x-python",
   "name": "python",
   "nbconvert_exporter": "python",
   "pygments_lexer": "ipython3",
   "version": "3.10.12"
  }
 },
 "nbformat": 4,
 "nbformat_minor": 5
}
