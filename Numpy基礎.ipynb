{
  "nbformat": 4,
  "nbformat_minor": 0,
  "metadata": {
    "colab": {
      "provenance": [],
      "collapsed_sections": [
        "qUKAFvunrHlf",
        "t6PHa2zgPI9-",
        "4wLcXseY_xfz",
        "a2MkZpdlAd1N",
        "bo8sPAnAAxIX",
        "kRH8WKV2A6jX",
        "fgMXbc1_Ckdz",
        "OUyti56DhhMA",
        "093AOVy3Ginz",
        "-rRyCqoaIgkw",
        "XOhHex_4mC2m"
      ]
    },
    "kernelspec": {
      "name": "python3",
      "display_name": "Python 3"
    },
    "language_info": {
      "name": "python"
    }
  },
  "cells": [
    {
      "cell_type": "markdown",
      "source": [
        "# 工欲善其事， 必先利其器\n",
        "基本操作!!\n",
        "\n",
        "NumPy 是 Python 的一個非常重要的科學計算庫，提供了大量用於處理數組（尤其是多維數組）的功能。"
      ],
      "metadata": {
        "id": "qUKAFvunrHlf"
      }
    },
    {
      "cell_type": "code",
      "execution_count": null,
      "metadata": {
        "id": "yzoDuB4MqsU9"
      },
      "outputs": [],
      "source": [
        "import numpy as np"
      ]
    },
    {
      "cell_type": "code",
      "source": [
        "#創建數組\n",
        "a = np.array([1, 2, 3])\n",
        "a"
      ],
      "metadata": {
        "colab": {
          "base_uri": "https://localhost:8080/"
        },
        "id": "vVeb7TqAry4i",
        "outputId": "92d0495d-c9a0-467a-89aa-d7554f9d43fd"
      },
      "execution_count": null,
      "outputs": [
        {
          "output_type": "execute_result",
          "data": {
            "text/plain": [
              "array([1, 2, 3])"
            ]
          },
          "metadata": {},
          "execution_count": 3
        }
      ]
    },
    {
      "cell_type": "code",
      "source": [
        "#特定大小的全零數組\n",
        "b = np.zeros((3,3))\n",
        "b"
      ],
      "metadata": {
        "colab": {
          "base_uri": "https://localhost:8080/"
        },
        "id": "3qxq9XDrr50D",
        "outputId": "4354cead-ce66-4c9c-8a3c-8803b676bdcf"
      },
      "execution_count": null,
      "outputs": [
        {
          "output_type": "execute_result",
          "data": {
            "text/plain": [
              "array([[0., 0., 0.],\n",
              "       [0., 0., 0.],\n",
              "       [0., 0., 0.]])"
            ]
          },
          "metadata": {},
          "execution_count": 4
        }
      ]
    },
    {
      "cell_type": "code",
      "source": [
        "#特定大小的全一數組\n",
        "c = np.ones((2,2))\n",
        "c"
      ],
      "metadata": {
        "colab": {
          "base_uri": "https://localhost:8080/"
        },
        "id": "SAfJX0m3sCEj",
        "outputId": "08b73a57-3080-4aee-f7af-516afc347504"
      },
      "execution_count": null,
      "outputs": [
        {
          "output_type": "execute_result",
          "data": {
            "text/plain": [
              "array([[1., 1.],\n",
              "       [1., 1.]])"
            ]
          },
          "metadata": {},
          "execution_count": 5
        }
      ]
    },
    {
      "cell_type": "markdown",
      "source": [
        "在線性代數中，單位矩陣（Identity Matrix）是一種特殊的方陣，其主對角線上的元素都是1，其他位置的元素都是0。例如，3x3的單位矩陣表示如下：\n",
        "\n",
        "$$\n",
        "I =\n",
        "\\begin{pmatrix}\n",
        "1 & 0 & 0 \\\\\n",
        "0 & 1 & 0 \\\\\n",
        "0 & 0 & 1\n",
        "\\end{pmatrix}\n",
        "$$\n",
        "\n",
        "單位矩陣在線性代數中的重要性在於它是矩陣乘法的\"單位元素\"。這意味著任何矩陣\\( A \\)與其對應大小的單位矩陣\\( I \\)相乘，結果仍然是\\( A \\)。例如，若\\( A \\)是一個3x3矩陣，則\\( AI = IA = A \\)。"
      ],
      "metadata": {
        "id": "WSV95jJ2sVRU"
      }
    },
    {
      "cell_type": "code",
      "source": [
        "#單位矩陣\n",
        "d = np.eye(3)\n",
        "d"
      ],
      "metadata": {
        "colab": {
          "base_uri": "https://localhost:8080/"
        },
        "id": "31ncH7JcsHYU",
        "outputId": "ab28a1fd-ff7f-4412-8d60-16cb583f8575"
      },
      "execution_count": null,
      "outputs": [
        {
          "output_type": "execute_result",
          "data": {
            "text/plain": [
              "array([[1., 0., 0.],\n",
              "       [0., 1., 0.],\n",
              "       [0., 0., 1.]])"
            ]
          },
          "metadata": {},
          "execution_count": 19
        }
      ]
    },
    {
      "cell_type": "code",
      "source": [
        "#序列數組\n",
        "arange_array = np.arange(start=0, stop=10, step=2)\n",
        "arange_array"
      ],
      "metadata": {
        "colab": {
          "base_uri": "https://localhost:8080/"
        },
        "id": "ZBRcYRnXy2bS",
        "outputId": "8cb86b4d-3a88-459c-bb2e-d4a41be81417"
      },
      "execution_count": null,
      "outputs": [
        {
          "output_type": "execute_result",
          "data": {
            "text/plain": [
              "array([0, 2, 4, 6, 8])"
            ]
          },
          "metadata": {},
          "execution_count": 35
        }
      ]
    },
    {
      "cell_type": "code",
      "source": [
        "#等間隔數組\n",
        "linspace_array = np.linspace(start=0, stop=10, num=5)\n",
        "linspace_array"
      ],
      "metadata": {
        "colab": {
          "base_uri": "https://localhost:8080/"
        },
        "id": "tAFs5-etzD4K",
        "outputId": "56209bf9-1908-42d6-e661-815c23017738"
      },
      "execution_count": null,
      "outputs": [
        {
          "output_type": "execute_result",
          "data": {
            "text/plain": [
              "array([ 0. ,  2.5,  5. ,  7.5, 10. ])"
            ]
          },
          "metadata": {},
          "execution_count": 36
        }
      ]
    },
    {
      "cell_type": "code",
      "source": [
        "#回傳大小\n",
        "print(f'大小: {d.shape}')\n",
        "#回傳總數\n",
        "print(f'總數: {d.size}')\n",
        "#回傳數據類型\n",
        "print(f'類型: {d.dtype}')\n",
        "#回傳維度\n",
        "print(f'維度: {d.ndim}')\n",
        "#改形狀\n",
        "print(f'形狀: {d.reshape(9)}')\n",
        "##展平矩陣\n",
        "print(f'展平: {d.ravel}')\n",
        "#堆疊(horizontal, vertical)\n",
        "print(f'堆疊h: \\n {np.hstack([d,d])}' )\n",
        "print(f'堆疊v: \\n {np.vstack([d,d])}')"
      ],
      "metadata": {
        "colab": {
          "base_uri": "https://localhost:8080/"
        },
        "id": "nF974nzcts1s",
        "outputId": "b3ebffbf-05d7-4dd4-ce3d-7b847f207490"
      },
      "execution_count": null,
      "outputs": [
        {
          "output_type": "stream",
          "name": "stdout",
          "text": [
            "大小: (3, 3)\n",
            "總數: 9\n",
            "類型: float64\n",
            "維度: 2\n",
            "形狀: [1. 0. 0. 0. 1. 0. 0. 0. 1.]\n",
            "展平: <built-in method ravel of numpy.ndarray object at 0x7f6b75f7a610>\n",
            "堆疊h: \n",
            " [[1. 0. 0. 1. 0. 0.]\n",
            " [0. 1. 0. 0. 1. 0.]\n",
            " [0. 0. 1. 0. 0. 1.]]\n",
            "堆疊v: \n",
            " [[1. 0. 0.]\n",
            " [0. 1. 0.]\n",
            " [0. 0. 1.]\n",
            " [1. 0. 0.]\n",
            " [0. 1. 0.]\n",
            " [0. 0. 1.]]\n"
          ]
        }
      ]
    },
    {
      "cell_type": "code",
      "source": [
        "print(d,\"\\n\")\n",
        "#索引\n",
        "print(d[1,0], \"\\n\") #(1,0)項\n",
        "#切片\n",
        "print(d[0:2]) #切前兩行出來"
      ],
      "metadata": {
        "colab": {
          "base_uri": "https://localhost:8080/"
        },
        "id": "_X10w5QVtxxO",
        "outputId": "531b2ed2-e500-487b-de49-4d3fbd94b15c"
      },
      "execution_count": null,
      "outputs": [
        {
          "output_type": "stream",
          "name": "stdout",
          "text": [
            "[[1. 0. 0.]\n",
            " [0. 1. 0.]\n",
            " [0. 0. 1.]] \n",
            "\n",
            "0.0 \n",
            "\n",
            "[[1. 0. 0.]\n",
            " [0. 1. 0.]]\n"
          ]
        }
      ]
    },
    {
      "cell_type": "code",
      "source": [
        "# + - * /\n",
        "a = np.ones((2,2))\n",
        "b = np.ones((2,2))\n",
        "\n",
        "print(\"+\",a+b,\"\\n\")\n",
        "print(\"-\",a-b,\"\\n\")\n",
        "print(\"*\",a*b,\"\\n\")\n",
        "print(\"/\",a/b,\"\\n\")\n",
        "# 開根 加總\n",
        "print(\"開根\",np.sqrt(a),\"\\n\")\n",
        "print(\"加總\",np.sum(a),\"\\n\")"
      ],
      "metadata": {
        "colab": {
          "base_uri": "https://localhost:8080/"
        },
        "id": "WuemmIFpvmkA",
        "outputId": "e223d9ba-ec11-4cfb-d574-f0a360091aba"
      },
      "execution_count": null,
      "outputs": [
        {
          "output_type": "stream",
          "name": "stdout",
          "text": [
            "+ [[2. 2.]\n",
            " [2. 2.]] \n",
            "\n",
            "- [[0. 0.]\n",
            " [0. 0.]] \n",
            "\n",
            "* [[1. 1.]\n",
            " [1. 1.]] \n",
            "\n",
            "/ [[1. 1.]\n",
            " [1. 1.]] \n",
            "\n",
            "開根 [[1. 1.]\n",
            " [1. 1.]] \n",
            "\n",
            "加總 4.0 \n",
            "\n"
          ]
        }
      ]
    },
    {
      "cell_type": "markdown",
      "source": [
        "##### 點積（Dot Product）\n",
        "\n",
        "點積，也被稱為內積或純量積，是一種在向量空間中將兩個向量映射到一個純量的運算。若有兩個向量 $$\\mathbf{a} = [a_1, a_2, \\ldots, a_n] 和 \\mathbf{b} = [b_1, b_2, \\ldots, b_n]$$，它們的點積定義為：\n",
        "\n",
        "$$\n",
        "\\mathbf{a} \\cdot \\mathbf{b} = a_1b_1 + a_2b_2 + \\ldots + a_nb_n\n",
        "$$\n",
        "\n",
        "這個操作的結果是一個單一的數字（純量）。在物理學中，點積常用於計算力的功或者兩個向量間的夾角。\n",
        "\n",
        "##### 交叉積（Cross Product）\n",
        "\n",
        "交叉積，僅適用於三維向量，是一種在向量空間中將兩個向量映射到第三個向量的運算。若有兩個三維向量 $$\\mathbf{a} = [a_1, a_2, a_3]$$ 和 $$\\mathbf{b} = [b_1, b_2, b_3]$$，它們的交叉積 $$\\mathbf{a} \\times \\mathbf{b}$$ 可以用以下行列式表示：\n",
        "\n",
        "$$\n",
        "\\mathbf{a} \\times \\mathbf{b} =\n",
        "\\begin{vmatrix}\n",
        "\\mathbf{i} & \\mathbf{j} & \\mathbf{k} \\\\\n",
        "a_1 & a_2 & a_3 \\\\\n",
        "b_1 & b_2 & b_3\n",
        "\\end{vmatrix}\n",
        "$$\n",
        "\n",
        "這裡，$$\\mathbf{i}, \\mathbf{j}, 和 \\mathbf{k}$$ 是單位向量。計算此行列式可得：\n",
        "\n",
        "$$\n",
        "\\mathbf{a} \\times \\mathbf{b} = (a_2b_3 - a_3b_2)\\mathbf{i} - (a_1b_3 - a_3b_1)\\mathbf{j} + (a_1b_2 - a_2b_1)\\mathbf{k}\n",
        "$$\n",
        "\n",
        "交叉積的結果是一個向量，這個向量垂直於原來的兩個向量，其方向遵循右手定則。交叉積在物理學中的應用包括計算力矩和角動量。"
      ],
      "metadata": {
        "id": "maaJAeuoxIs3"
      }
    },
    {
      "cell_type": "code",
      "source": [
        "print(f\"A: {a} \\n \\n B: {b} \\n\")\n",
        "#點積\n",
        "print(\"點積:\",np.dot(a, b),\"\\n\")\n",
        "#交叉積\n",
        "print(\"交叉積:\",np.cross(a, b),\"\\n\")\n",
        "#轉置矩陣\n",
        "print(\"轉置:\",a.T,\"\\n\")"
      ],
      "metadata": {
        "colab": {
          "base_uri": "https://localhost:8080/"
        },
        "id": "PSWgv9-jwXUr",
        "outputId": "7dc170ca-2736-4b5e-bba2-130bc3aa8345"
      },
      "execution_count": null,
      "outputs": [
        {
          "output_type": "stream",
          "name": "stdout",
          "text": [
            "A: [[1. 1.]\n",
            " [1. 1.]] \n",
            " \n",
            " B: [[1. 1.]\n",
            " [1. 1.]] \n",
            "\n",
            "點積: [[2. 2.]\n",
            " [2. 2.]] \n",
            "\n",
            "交叉積: [0. 0.] \n",
            "\n",
            "轉置: [[1. 1.]\n",
            " [1. 1.]] \n",
            "\n"
          ]
        }
      ]
    },
    {
      "cell_type": "markdown",
      "source": [
        "#解線性代數\n",
        "高斯消去\n",
        "基本上就是把對角線下所有數字變零，使最後一列只有一元，倒數第二列只有2元(設是三元)\n",
        "\n",
        "\n",
        "  \\begin{bmatrix}\n",
        "  a & b & c \\\\\n",
        "  0 & d & e \\\\\n",
        "  0 & 0 & f \\\\\n",
        "\\end{bmatrix}"
      ],
      "metadata": {
        "id": "t6PHa2zgPI9-"
      }
    },
    {
      "cell_type": "code",
      "source": [
        "import numpy as np\n",
        "\n",
        "# a = 2x-y = -1, b = x-y = -6\n",
        "# 定義方程組的係數\n",
        "a = np.array([[2, -1], [1, -1]])\n",
        "b = np.array([-1, -6])\n",
        "\n",
        "print(\"A:\", a, \"\\n\")\n",
        "print(\"B:\", b, \"\\n\")\n",
        "\n",
        "# 使用 NumPy 的 linalg.solve 函數來解方程組\n",
        "solution = np.linalg.solve(a, b)\n",
        "print(\"解:\", solution)\n",
        "\n",
        "#強!"
      ],
      "metadata": {
        "colab": {
          "base_uri": "https://localhost:8080/"
        },
        "id": "3zlFYLbQ4T2u",
        "outputId": "f66034a6-4d06-4d86-b94f-77506a290ecf"
      },
      "execution_count": null,
      "outputs": [
        {
          "output_type": "stream",
          "name": "stdout",
          "text": [
            "A: [[ 2 -1]\n",
            " [ 1 -1]] \n",
            "\n",
            "B: [-1 -6] \n",
            "\n",
            "解: [ 5. 11.]\n"
          ]
        }
      ]
    },
    {
      "cell_type": "code",
      "source": [
        "#均勻分布的arr\n",
        "a = np.random.rand(3, 3) #常態分布\n",
        "b = np.random.randn(3, 3) #標準常態分布 µ=0 σ^2 = 1\n",
        "c = np.random.randint(low=0, high=10, size=(3, 3)) #有範圍\n",
        "print(a,\"\\n\",\"\\n\",b,\"\\n\",\"\\n\",c)\n"
      ],
      "metadata": {
        "colab": {
          "base_uri": "https://localhost:8080/"
        },
        "id": "Tb7zRTzL5Wn9",
        "outputId": "c587edde-2de4-41f0-9d19-77e73c68e0a0"
      },
      "execution_count": null,
      "outputs": [
        {
          "output_type": "stream",
          "name": "stdout",
          "text": [
            "[[0.76531652 0.72158994 0.73633082]\n",
            " [0.70327708 0.22126452 0.71883161]\n",
            " [0.93348887 0.44271863 0.55921561]] \n",
            " \n",
            " [[ 2.21910008  1.61550898 -0.76004195]\n",
            " [ 1.11881088 -1.129534   -1.10380765]\n",
            " [-0.44847731  0.18596695 -1.01972329]] \n",
            " \n",
            " [[0 3 1]\n",
            " [1 1 3]\n",
            " [3 2 4]]\n"
          ]
        }
      ]
    },
    {
      "cell_type": "markdown",
      "source": [
        "# Neural Network 激活函數\n",
        "用Numpy手刻 ReLU, Sigmoid, Tanh"
      ],
      "metadata": {
        "id": "W5-h1J0OrVKP"
      }
    },
    {
      "cell_type": "markdown",
      "source": [
        "## ReLU\n",
        "\n",
        "$$\n",
        "ReLU(x) = \\max(0, x)\n",
        "$$"
      ],
      "metadata": {
        "id": "4wLcXseY_xfz"
      }
    },
    {
      "cell_type": "code",
      "source": [
        "import numpy as np\n",
        "import matplotlib.pyplot as plt\n",
        "\n",
        "# ReLU 函數的實現\n",
        "def relu(x):\n",
        "    return np.maximum(0, x)\n",
        "\n",
        "# 創建一個數組（tensor）\n",
        "x = np.linspace(-10, 10, 100)\n",
        "y = relu(x)\n",
        "\n",
        "# 繪製 ReLU 函數圖形\n",
        "plt.plot(x, y)\n",
        "plt.title(\"ReLU Function\")\n",
        "plt.xlabel(\"x\")\n",
        "plt.ylabel(\"ReLU(x)\")\n",
        "plt.grid()\n",
        "plt.show()\n",
        "\n",
        "# WoW so ez~~"
      ],
      "metadata": {
        "colab": {
          "base_uri": "https://localhost:8080/",
          "height": 472
        },
        "id": "bhM04uAv_3w6",
        "outputId": "342f178d-ec87-4f3f-9cd9-e6649f46406d"
      },
      "execution_count": null,
      "outputs": [
        {
          "output_type": "display_data",
          "data": {
            "text/plain": [
              "<Figure size 640x480 with 1 Axes>"
            ],
            "image/png": "[encoded data removed]"
          },
          "metadata": {}
        }
      ]
    },
    {
      "cell_type": "markdown",
      "source": [
        "## Sigmoid\n",
        "$$\n",
        "\\sigma(x) = \\frac{1}{1 + e^{-x}}\n",
        "$$"
      ],
      "metadata": {
        "id": "a2MkZpdlAd1N"
      }
    },
    {
      "cell_type": "code",
      "source": [
        "import numpy as np\n",
        "import matplotlib.pyplot as plt\n",
        "\n",
        "# Sigmoid 函數的實現\n",
        "def sigmoid(x):\n",
        "    return 1 / (1 + np.exp(-x))\n",
        "\n",
        "# 創建一個數組（從 -10 到 10）\n",
        "x = np.linspace(-10, 10, 100)\n",
        "y = sigmoid(x)\n",
        "\n",
        "# 繪製 Sigmoid 函數圖形\n",
        "plt.plot(x, y)\n",
        "plt.title(\"Sigmoid Function\")\n",
        "plt.xlabel(\"x\")\n",
        "plt.ylabel(\"Sigmoid(x)\")\n",
        "plt.grid()\n",
        "plt.show()\n"
      ],
      "metadata": {
        "colab": {
          "base_uri": "https://localhost:8080/",
          "height": 472
        },
        "id": "nRoX9TfV_8GF",
        "outputId": "839554a0-46d9-44b8-e992-03f90fa4eaed"
      },
      "execution_count": null,
      "outputs": [
        {
          "output_type": "display_data",
          "data": {
            "text/plain": [
              "<Figure size 640x480 with 1 Axes>"
            ],
            "image/png": "[encoded data removed]"
          },
          "metadata": {}
        }
      ]
    },
    {
      "cell_type": "markdown",
      "source": [
        "## Tanh\n",
        "$$\n",
        "\\tanh(x) = \\frac{e^x - e^{-x}}{e^x + e^{-x}}\n",
        "$$"
      ],
      "metadata": {
        "id": "bo8sPAnAAxIX"
      }
    },
    {
      "cell_type": "code",
      "source": [
        "# 實現 tanh 函數\n",
        "def tanh(x):\n",
        "    return np.tanh(x)\n",
        "\n",
        "# 繪製 tanh 函數圖形\n",
        "x = np.linspace(-10, 10, 100)\n",
        "y = tanh(x)\n",
        "\n",
        "plt.plot(x, y)\n",
        "plt.title(\"tanh Function\")\n",
        "plt.xlabel(\"x\")\n",
        "plt.ylabel(\"tanh(x)\")\n",
        "plt.grid()\n",
        "plt.show()\n"
      ],
      "metadata": {
        "colab": {
          "base_uri": "https://localhost:8080/",
          "height": 472
        },
        "id": "0C6K1C-lAiq-",
        "outputId": "09119473-2d0e-4bf9-a74a-81ffb282c8a7"
      },
      "execution_count": null,
      "outputs": [
        {
          "output_type": "display_data",
          "data": {
            "text/plain": [
              "<Figure size 640x480 with 1 Axes>"
            ],
            "image/png": "[encoded data removed]"
          },
          "metadata": {}
        }
      ]
    },
    {
      "cell_type": "markdown",
      "source": [
        "## Softmax\n",
        "$$\n",
        "\\text{softmax}(x)_i = \\frac{e^{x_i}}{\\sum_{j} e^{x_j}}\n",
        "$$"
      ],
      "metadata": {
        "id": "kRH8WKV2A6jX"
      }
    },
    {
      "cell_type": "code",
      "source": [
        "# 實現 softmax 函數\n",
        "def softmax(x):\n",
        "    e_x = np.exp(x - np.max(x))  # 穩定 softmax 函數\n",
        "    return e_x / e_x.sum(axis=0)\n",
        "\n",
        "# 測試 softmax 函數\n",
        "x = np.array([1.0, 2.0, 3.0])\n",
        "print(\"Softmax:\", softmax(x))\n"
      ],
      "metadata": {
        "colab": {
          "base_uri": "https://localhost:8080/"
        },
        "id": "Tqb8Js_OAz5n",
        "outputId": "71279190-4a4b-43f3-a58c-dc644cd3749d"
      },
      "execution_count": null,
      "outputs": [
        {
          "output_type": "stream",
          "name": "stdout",
          "text": [
            "Softmax: [0.09003057 0.24472847 0.66524096]\n"
          ]
        }
      ]
    },
    {
      "cell_type": "markdown",
      "source": [
        "# 微積分\n",
        "由於等等就要開始手搓一隻神經網路出來了，所以要先準備好\n",
        "微積分...\n",
        "\n",
        "* numpy沒有\n",
        "* 這裡不用Pytorch or Tensorflow(Pytorch見別的講義)\n",
        "\n",
        "\n",
        "$$\n",
        "微分: \\frac{df}{dx} = \\lim_{h \\to 0} \\frac{f(x+h) - f(x)}{h}\n",
        "$$\n",
        "\n",
        "\n",
        "\n",
        "$$\n",
        "積分: \\int_{a}^{b} f(x) \\, dx\n",
        "$$"
      ],
      "metadata": {
        "id": "fgMXbc1_Ckdz"
      }
    },
    {
      "cell_type": "code",
      "source": [
        "#大概的微分\n",
        "import numpy as np\n",
        "\n",
        "def f(x):\n",
        "    return x**2\n",
        "\n",
        "# 計算 f 在 x = 2 處的導數\n",
        "x = 2\n",
        "h = 1e-5  # 小的 h 值\n",
        "derivative = (f(x + h) - f(x)) / h\n",
        "\n",
        "print(derivative)\n"
      ],
      "metadata": {
        "colab": {
          "base_uri": "https://localhost:8080/"
        },
        "id": "ov8dvN-iD4WV",
        "outputId": "23e97bb0-a281-4c10-cdce-aeb2cacb8a7c"
      },
      "execution_count": null,
      "outputs": [
        {
          "output_type": "stream",
          "name": "stdout",
          "text": [
            "4.000010000027032\n"
          ]
        }
      ]
    },
    {
      "cell_type": "markdown",
      "source": [
        "# 誤差, 優化!"
      ],
      "metadata": {
        "id": "093AOVy3Ginz"
      }
    },
    {
      "cell_type": "markdown",
      "source": [
        "$$H(p, q) = -\\left[ y \\log(\\hat{y}) + (1 - y) \\log(1 - \\hat{y}) \\right]$$"
      ],
      "metadata": {
        "id": "s6QLihhtJypR"
      }
    },
    {
      "cell_type": "code",
      "source": [
        "# 交叉熵\n",
        "import numpy as np\n",
        "\n",
        "def cross_entropy(y_true, y_pred):\n",
        "    # 防止對數函數中的除零錯誤\n",
        "    epsilon = 1e-15\n",
        "    y_pred = np.clip(y_pred, epsilon, 1. - epsilon)\n",
        "    ce = -np.sum(y_true * np.log(y_pred))\n",
        "    return ce\n",
        "\n",
        "# 測試函數\n",
        "y_true = np.array([1, 0, 0, 0])\n",
        "y_pred = np.array([0.7, 0.1, 0.1, 0.1])\n",
        "print(\"Cross Entropy:\", cross_entropy(y_true, y_pred))\n"
      ],
      "metadata": {
        "colab": {
          "base_uri": "https://localhost:8080/"
        },
        "id": "4Xn4KCcoGl5K",
        "outputId": "5b260fda-f5ba-4f53-fcd5-fa53f0d79dc9"
      },
      "execution_count": null,
      "outputs": [
        {
          "output_type": "stream",
          "name": "stdout",
          "text": [
            "Cross Entropy: 0.35667494393873245\n"
          ]
        }
      ]
    },
    {
      "cell_type": "markdown",
      "source": [
        "$$\n",
        "\\text{RMSE} = \\sqrt{\\frac{1}{n}\\sum_{i=1}^{n}(y_i - \\hat{y}_i)^2}\n",
        "$$"
      ],
      "metadata": {
        "id": "wys8HoWtITZ_"
      }
    },
    {
      "cell_type": "code",
      "source": [
        "#RMSE\n",
        "import numpy as np\n",
        "\n",
        "def rmse(y_true, y_pred):\n",
        "    mse = np.mean((y_true - y_pred) ** 2)\n",
        "    return np.sqrt(mse)\n",
        "\n",
        "# 測試函數\n",
        "y_true = np.array([3, -0.5, 2, 7])\n",
        "y_pred = np.array([2.5, 0.0, 2, 8])\n",
        "print(\"RMSE:\", rmse(y_true, y_pred))\n"
      ],
      "metadata": {
        "colab": {
          "base_uri": "https://localhost:8080/"
        },
        "id": "Ic1U9dTjGsyk",
        "outputId": "9590add0-048c-4601-8cf1-03380604a923"
      },
      "execution_count": null,
      "outputs": [
        {
          "output_type": "stream",
          "name": "stdout",
          "text": [
            "RMSE: 0.6123724356957945\n"
          ]
        }
      ]
    },
    {
      "cell_type": "markdown",
      "source": [
        "## Adam\n",
        "![](https://www.researchgate.net/publication/331712164/figure/fig1/AS:735993674080268@1552485974888/Pseudocode-of-the-Adam-algorithm.png)"
      ],
      "metadata": {
        "id": "-rRyCqoaIgkw"
      }
    },
    {
      "cell_type": "code",
      "source": [
        "import numpy as np\n",
        "\n",
        "class AdamOptimizer:\n",
        "    def __init__(self, learning_rate=0.001, beta1=0.9, beta2=0.999, epsilon=1e-8):\n",
        "        self.learning_rate = learning_rate\n",
        "        self.beta1 = beta1\n",
        "        self.beta2 = beta2\n",
        "        self.epsilon = epsilon\n",
        "        self.m = 0\n",
        "        self.v = 0\n",
        "        self.t = 0\n",
        "\n",
        "    def update(self, params, grads):\n",
        "        self.t += 1\n",
        "        self.m = self.beta1 * self.m + (1 - self.beta1) * grads\n",
        "        self.v = self.beta2 * self.v + (1 - self.beta2) * (grads ** 2)\n",
        "\n",
        "        m_corrected = self.m / (1 - self.beta1 ** self.t)\n",
        "        v_corrected = self.v / (1 - self.beta2 ** self.t)\n",
        "\n",
        "        params -= self.learning_rate * m_corrected / (np.sqrt(v_corrected) + self.epsilon)\n",
        "        return params\n",
        "\n",
        "# 測試 Adam 優化器\n",
        "optimizer = AdamOptimizer(learning_rate=0.001)\n",
        "params = np.array([1.5, 2.5])\n",
        "grads = np.array([0.9, -0.1])\n",
        "print(\"Parameters before:\", params)\n",
        "params = optimizer.update(params, grads)\n",
        "print(\"Parameters after:\", params)\n"
      ],
      "metadata": {
        "colab": {
          "base_uri": "https://localhost:8080/"
        },
        "id": "Kv9rwkvgGvc0",
        "outputId": "2da02fc7-9edb-49eb-9d01-1b197517fb1e"
      },
      "execution_count": null,
      "outputs": [
        {
          "output_type": "stream",
          "name": "stdout",
          "text": [
            "Parameters before: [1.5 2.5]\n",
            "Parameters after: [1.499 2.501]\n"
          ]
        }
      ]
    },
    {
      "cell_type": "markdown",
      "source": [
        "# 開始手刻 AND/OR/NAND/XOR Numpy"
      ],
      "metadata": {
        "id": "XOhHex_4mC2m"
      }
    },
    {
      "cell_type": "markdown",
      "source": [
        "## 反向傳播\n",
        "\n",
        "反向傳播通過以下步驟執行：\n",
        "\n",
        "1. **前向傳播**：首先進行前向傳播，計算每一層的輸出並在最終層得到預測結果。\n",
        "\n",
        "2. **計算損失**：根據預測結果和真實標籤計算損失。常用的損失函數有均方誤差（用於回歸問題）和交叉熵損失（用於分類問題）。\n",
        "\n",
        "3. **反向傳播梯度**：計算損失對網絡參數的偏導數。從輸出層開始，逆向通過每一層，應用鏈式法則計算每一層參數的梯度。\n",
        "\n",
        "4. **更新參數**：使用計算得到的梯度更新網絡的權重和偏置。\n",
        "\n",
        "### 反向傳播的數學表示\n",
        "\n",
        "假設我們有一個簡單的全連接神經網絡，它包含輸入層、一個隱藏層和輸出層。以下是反向傳播的數學表示：\n",
        "\n",
        "1. **前向傳播**：\n",
        "   - 輸入到隱藏層：$$ z^{[1]} = W^{[1]} x + b^{[1]} ， a^{[1]} = g^{[1]}(z^{[1]}) $$\n",
        "   - 隱藏層到輸出層： $$z^{[2]} = W^{[2]} a^{[1]} + b^{[2]} ， a^{[2]} = g^{[2]}(z^{[2]}) $$\n",
        "   - 其中 $$ W^{[1]} 、 W^{[2]} 、 b^{[1]}  和  b^{[2]}  是參數，g^{[1]}  和  g^{[2]} $$ 是激活函數。\n",
        "\n",
        "2. **損失函數**（以均方誤差為例）：\n",
        "   -  $$L(a^{[2]}, y) = \\frac{1}{2}(a^{[2]} - y)^2 $$\n",
        "\n",
        "3. **反向傳播**：\n",
        "   - 輸出層梯度：$$ \\frac{\\partial L}{\\partial z^{[2]}} = (a^{[2]} - y) \\cdot g^{[2]'}(z^{[2]}) $$\n",
        "   - 隱藏層權重梯度：$$ \\frac{\\partial L}{\\partial W^{[2]}} = \\frac{\\partial L}{\\partial z^{[2]}} \\cdot (a^{[1]})^T $$\n",
        "   - 隱藏層偏置梯度：$$ \\frac{\\partial L}{\\partial b^{[2]}} = \\frac{\\partial L}{\\partial z^{[2]}} $$\n",
        "   - 隱藏層梯度：$$ \\frac{\\partial L}{\\partial z^{[1]}} = (W^{[2]})^T \\cdot \\frac{\\partial L}{\\partial z^{[2]}} \\cdot g^{[1]'}(z^{[1]}) $$\n",
        "   - 輸入層權重梯度：$$ \\frac{\\partial L}{\\partial W^{[1]}} = \\frac{\\partial L}{\\partial z^{[1]}} \\cdot x^T $$\n",
        "   - 輸入層偏置梯度：$$ \\frac{\\partial L}{\\partial b^{[1]}} = \\frac{\\partial L}{\\partial z^{[1]}} $$\n",
        "\n",
        "在這裡，$$ g^{[1]'}  和  g^{[2]'} $$ 分別是隱藏層和輸出層激活函數的導數。這個過程需要對每一層的參數應用鏈式法則。\n",
        "\n",
        "### 重要注意事項\n",
        "\n",
        "- 在實際的神經網絡中，會有多個隱藏層，每層可能有不同的激活函數，因此反向傳播的計算會更加複雜。\n",
        "- 反向傳播的效率是通過使用自動微分技術（如在TensorFlow和PyTorch中實現）來實現的，這大大簡化了梯度計算過程。"
      ],
      "metadata": {
        "id": "7rsqgIv7tJ9w"
      }
    },
    {
      "cell_type": "code",
      "source": [
        "import numpy as np\n",
        "import matplotlib.pyplot as plt\n",
        "\n",
        "def sigmoid(x):\n",
        "    return 1 / (1 + np.exp(-x))\n",
        "\n",
        "def sigmoid_derivative(x):\n",
        "    return x * (1 - x)\n",
        "\n",
        "# 初始化權重和偏置\n",
        "np.random.seed(0)\n",
        "weights = np.random.rand(2, 1)\n",
        "bias = np.random.rand(1)\n",
        "\n",
        "data = np.array([[0, 0], [0, 1], [1, 0], [1, 1]])\n",
        "labels = np.array([[0], [0], [0], [1]])  # AND閘的真值表\n",
        "\n",
        "# 存儲損失值\n",
        "loss_values = []\n",
        "\n",
        "# 訓練過程\n",
        "learning_rate = 0.1\n",
        "for ii in range(1000):\n",
        "    # 前向傳播\n",
        "    input_layer = np.dot(data, weights) + bias\n",
        "    output = sigmoid(input_layer)\n",
        "\n",
        "    # 計算損失 (均方誤差)\n",
        "    loss = np.mean((labels - output) ** 2)\n",
        "    loss_values.append(loss)\n",
        "\n",
        "    # 反向傳播\n",
        "    d_loss = labels - output\n",
        "    d_output = d_loss * sigmoid_derivative(output)\n",
        "\n",
        "    d_weights = np.dot(data.T, d_output)\n",
        "    d_bias = np.sum(d_output, axis=0)\n",
        "\n",
        "    # 更新參數\n",
        "    weights += learning_rate * d_weights\n",
        "    bias += learning_rate * d_bias\n",
        "\n",
        "    if ii % 100 == 0:\n",
        "        print(f'Epoch [{ii+1}/{ii}] Loss: {loss}')\n",
        "\n",
        "# 繪製損失圖\n",
        "plt.plot(loss_values)\n",
        "plt.title(\"Loss During Training\")\n",
        "plt.xlabel(\"Iteration\")\n",
        "plt.ylabel(\"Loss\")\n",
        "plt.show()\n"
      ],
      "metadata": {
        "colab": {
          "base_uri": "https://localhost:8080/",
          "height": 646
        },
        "id": "So-pcwf8mI-9",
        "outputId": "365f940c-2b49-4b24-a0e8-a6f467ff7efb"
      },
      "execution_count": null,
      "outputs": [
        {
          "output_type": "stream",
          "name": "stdout",
          "text": [
            "Epoch [1/0] Loss: 0.4087965798306512\n",
            "Epoch [101/100] Loss: 0.1360042334487188\n",
            "Epoch [201/200] Loss: 0.10154078408752773\n",
            "Epoch [301/300] Loss: 0.0811796375052056\n",
            "Epoch [401/400] Loss: 0.06749166530785466\n",
            "Epoch [501/500] Loss: 0.05754275953585006\n",
            "Epoch [601/600] Loss: 0.04995413129281198\n",
            "Epoch [701/700] Loss: 0.043975028229137306\n",
            "Epoch [801/800] Loss: 0.03915120284612587\n",
            "Epoch [901/900] Loss: 0.03518697315485482\n"
          ]
        },
        {
          "output_type": "display_data",
          "data": {
            "text/plain": [
              "<Figure size 640x480 with 1 Axes>"
            ],
            "image/png": "[encoded data removed]"
          },
          "metadata": {}
        }
      ]
    },
    {
      "cell_type": "code",
      "source": [
        "import numpy as np\n",
        "import matplotlib.pyplot as plt\n",
        "\n",
        "def sigmoid(x):\n",
        "    return 1 / (1 + np.exp(-x))\n",
        "\n",
        "def sigmoid_derivative(x):\n",
        "    return x * (1 - x)\n",
        "\n",
        "# 初始化權重和偏置\n",
        "np.random.seed(0)\n",
        "weights = np.random.rand(2, 1)\n",
        "bias = np.random.rand(1)\n",
        "\n",
        "\n",
        "data = np.array([[0, 0], [0, 1], [1, 0], [1, 1]])\n",
        "labels = np.array([[0], [1], [1], [1]])  # OR閘的真值表\n",
        "\n",
        "# 存儲損失值\n",
        "loss_values = []\n",
        "\n",
        "# 訓練過程\n",
        "learning_rate = 0.1\n",
        "for ii in range(1000):\n",
        "    # 前向傳播\n",
        "    input_layer = np.dot(data, weights) + bias\n",
        "    output = sigmoid(input_layer)\n",
        "\n",
        "    # 計算損失 (均方誤差)\n",
        "    loss = np.mean((labels - output) ** 2)\n",
        "    loss_values.append(loss)\n",
        "\n",
        "    # 反向傳播\n",
        "    d_loss = labels - output\n",
        "    d_output = d_loss * sigmoid_derivative(output)\n",
        "\n",
        "    d_weights = np.dot(data.T, d_output)\n",
        "    d_bias = np.sum(d_output, axis=0)\n",
        "\n",
        "    # 更新參數\n",
        "    weights += learning_rate * d_weights\n",
        "    bias += learning_rate * d_bias\n",
        "\n",
        "    if ii % 100 == 0:\n",
        "        print(f'Epoch [{ii+1}/{ii}] Loss: {loss}')\n",
        "\n",
        "# 繪製損失圖\n",
        "plt.plot(loss_values)\n",
        "plt.title(\"Loss During Training\")\n",
        "plt.xlabel(\"Iteration\")\n",
        "plt.ylabel(\"Loss\")\n",
        "plt.show()\n"
      ],
      "metadata": {
        "colab": {
          "base_uri": "https://localhost:8080/",
          "height": 646
        },
        "id": "GEBXI8QmzoXk",
        "outputId": "58e755b8-8f10-453f-e903-776927c059a3"
      },
      "execution_count": null,
      "outputs": [
        {
          "output_type": "stream",
          "name": "stdout",
          "text": [
            "Epoch [1/0] Loss: 0.13447672122630383\n",
            "Epoch [101/100] Loss: 0.09603207337804297\n",
            "Epoch [201/200] Loss: 0.07067874701796643\n",
            "Epoch [301/300] Loss: 0.05436212912425597\n",
            "Epoch [401/400] Loss: 0.043375297391756246\n",
            "Epoch [501/500] Loss: 0.03563787259699151\n",
            "Epoch [601/600] Loss: 0.029979311558608515\n",
            "Epoch [701/700] Loss: 0.02570810238137978\n",
            "Epoch [801/800] Loss: 0.022396841114123735\n",
            "Epoch [901/900] Loss: 0.019770828448226984\n"
          ]
        },
        {
          "output_type": "display_data",
          "data": {
            "text/plain": [
              "<Figure size 640x480 with 1 Axes>"
            ],
            "image/png": "[encoded data removed]"
          },
          "metadata": {}
        }
      ]
    },
    {
      "cell_type": "code",
      "source": [
        "import numpy as np\n",
        "import matplotlib.pyplot as plt\n",
        "\n",
        "def sigmoid(x):\n",
        "    return 1 / (1 + np.exp(-x))\n",
        "\n",
        "def sigmoid_derivative(x):\n",
        "    return x * (1 - x)\n",
        "\n",
        "# 初始化權重和偏置\n",
        "np.random.seed(0)\n",
        "weights = np.random.rand(2, 1)\n",
        "bias = np.random.rand(1)\n",
        "\n",
        "\n",
        "data = np.array([[0, 0], [0, 1], [1, 0], [1, 1]])\n",
        "labels = np.array([[1], [1], [1], [0]])  # NAND閘的真值表\n",
        "\n",
        "# 存儲損失值\n",
        "loss_values = []\n",
        "\n",
        "# 訓練過程\n",
        "learning_rate = 0.1\n",
        "for ii in range(1000):\n",
        "    # 前向傳播\n",
        "    input_layer = np.dot(data, weights) + bias\n",
        "    output = sigmoid(input_layer)\n",
        "\n",
        "    # 計算損失 (均方誤差)\n",
        "    loss = np.mean((labels - output) ** 2)\n",
        "    loss_values.append(loss)\n",
        "\n",
        "    # 反向傳播\n",
        "    d_loss = labels - output\n",
        "    d_output = d_loss * sigmoid_derivative(output)\n",
        "\n",
        "    d_weights = np.dot(data.T, d_output)\n",
        "    d_bias = np.sum(d_output, axis=0)\n",
        "\n",
        "    # 更新參數\n",
        "    weights += learning_rate * d_weights\n",
        "    bias += learning_rate * d_bias\n",
        "\n",
        "    if ii % 100 == 0:\n",
        "        print(f'Epoch [{ii+1}/{ii}] Loss: {loss}')\n",
        "\n",
        "# 繪製損失圖\n",
        "plt.plot(loss_values)\n",
        "plt.title(\"Loss During Training\")\n",
        "plt.xlabel(\"Iteration\")\n",
        "plt.ylabel(\"Loss\")\n",
        "plt.show()\n"
      ],
      "metadata": {
        "colab": {
          "base_uri": "https://localhost:8080/",
          "height": 646
        },
        "id": "c64FAJMAugEr",
        "outputId": "c763b275-60c4-4d5c-b68b-d81f948cfed4"
      },
      "execution_count": null,
      "outputs": [
        {
          "output_type": "stream",
          "name": "stdout",
          "text": [
            "Epoch [1/0] Loss: 0.2443744178626472\n",
            "Epoch [101/100] Loss: 0.17505985848880123\n",
            "Epoch [201/200] Loss: 0.12136075923896306\n",
            "Epoch [301/300] Loss: 0.09328042023098163\n",
            "Epoch [401/400] Loss: 0.07579084150208361\n",
            "Epoch [501/500] Loss: 0.0636458966440781\n",
            "Epoch [601/600] Loss: 0.054644054702058395\n",
            "Epoch [701/700] Loss: 0.0476893776180944\n",
            "Epoch [801/800] Loss: 0.04215953099667187\n",
            "Epoch [901/900] Loss: 0.03766687587334555\n"
          ]
        },
        {
          "output_type": "display_data",
          "data": {
            "text/plain": [
              "<Figure size 640x480 with 1 Axes>"
            ],
            "image/png": "[encoded data removed]"
          },
          "metadata": {}
        }
      ]
    },
    {
      "cell_type": "code",
      "source": [
        "import numpy as np\n",
        "import matplotlib.pyplot as plt\n",
        "\n",
        "def sigmoid(x):\n",
        "    return 1 / (1 + np.exp(-x))\n",
        "\n",
        "def sigmoid_derivative(x):\n",
        "    return x * (1 - x)\n",
        "\n",
        "# 初始化權重和偏置\n",
        "np.random.seed(0)\n",
        "weights = np.random.rand(2, 1)\n",
        "bias = np.random.rand(1)\n",
        "\n",
        "data = np.array([[0, 0], [0, 1], [1, 0], [1, 1]])\n",
        "labels = np.array([[0], [1], [1], [0]])  # XOR閘的真值表\n",
        "\n",
        "# 存儲損失值\n",
        "loss_values = []\n",
        "\n",
        "# 訓練過程\n",
        "learning_rate = 0.1\n",
        "for ii in range(1000):\n",
        "    # 前向傳播\n",
        "    input_layer = np.dot(data, weights) + bias\n",
        "    output = sigmoid(input_layer)\n",
        "\n",
        "    # 計算損失 (均方誤差)\n",
        "    loss = np.mean((labels - output) ** 2)\n",
        "    loss_values.append(loss)\n",
        "\n",
        "    # 反向傳播\n",
        "    d_loss = labels - output\n",
        "    d_output = d_loss * sigmoid_derivative(output)\n",
        "\n",
        "    d_weights = np.dot(data.T, d_output)\n",
        "    d_bias = np.sum(d_output, axis=0)\n",
        "\n",
        "    # 更新參數\n",
        "    weights += learning_rate * d_weights\n",
        "    bias += learning_rate * d_bias\n",
        "\n",
        "    if ii % 100 == 0:\n",
        "        print(f'Epoch [{ii+1}/{ii}] Loss: {loss}')\n",
        "\n",
        "# 繪製損失圖\n",
        "plt.plot(loss_values)\n",
        "plt.title(\"Loss During Training\")\n",
        "plt.xlabel(\"Iteration\")\n",
        "plt.ylabel(\"Loss\")\n",
        "plt.show()\n"
      ],
      "metadata": {
        "colab": {
          "base_uri": "https://localhost:8080/",
          "height": 646
        },
        "id": "rM5q3ps6ugtR",
        "outputId": "3bd55252-c091-477e-992b-cb37e2fc4fb8"
      },
      "execution_count": null,
      "outputs": [
        {
          "output_type": "stream",
          "name": "stdout",
          "text": [
            "Epoch [1/0] Loss: 0.31751855203891893\n",
            "Epoch [101/100] Loss: 0.2512692769447679\n",
            "Epoch [201/200] Loss: 0.2504687650306789\n",
            "Epoch [301/300] Loss: 0.25020700690534403\n",
            "Epoch [401/400] Loss: 0.2500922346599358\n",
            "Epoch [501/500] Loss: 0.2500413738131112\n",
            "Epoch [601/600] Loss: 0.2500186501362255\n",
            "Epoch [701/700] Loss: 0.2500084358547968\n",
            "Epoch [801/800] Loss: 0.2500038247176899\n",
            "Epoch [901/900] Loss: 0.2500017368519087\n"
          ]
        },
        {
          "output_type": "display_data",
          "data": {
            "text/plain": [
              "<Figure size 640x480 with 1 Axes>"
            ],
            "image/png": "[encoded data removed]"
          },
          "metadata": {}
        }
      ]
    },
    {
      "cell_type": "code",
      "source": [
        "import numpy as np\n",
        "import matplotlib.pyplot as plt\n",
        "from tqdm import tqdm\n",
        "\n",
        "def sigmoid(x):\n",
        "    return 1 / (1 + np.exp(-x))\n",
        "\n",
        "def sigmoid_derivative(x):\n",
        "    return x * (1 - x)\n",
        "\n",
        "def relu(x):\n",
        "    return np.maximum(0, x)\n",
        "\n",
        "def relu_derivative(x):\n",
        "    return (x > 0).astype(float)\n",
        "\n",
        "def initialize_parameters(input_size, hidden_size, output_size):\n",
        "    W1 = np.random.randn(hidden_size, input_size) * 0.01\n",
        "    b1 = np.zeros((hidden_size, 1))\n",
        "    W2 = np.random.randn(output_size, hidden_size) * 0.01\n",
        "    b2 = np.zeros((output_size, 1))\n",
        "    return W1, b1, W2, b2\n",
        "\n",
        "def forward_propagation(X, W1, b1, W2, b2):\n",
        "    Z1 = np.dot(W1, X) + b1\n",
        "    A1 = relu(Z1)\n",
        "    Z2 = np.dot(W2, A1) + b2\n",
        "    A2 = sigmoid(Z2)\n",
        "    return A1, A2\n",
        "\n",
        "def compute_cost(A2, Y):\n",
        "    return np.mean((Y - A2) ** 2)\n",
        "\n",
        "def backward_propagation(X, Y, A1, A2, W2):\n",
        "    m = X.shape[1]\n",
        "    dZ2 = A2 - Y\n",
        "    dW2 = np.dot(dZ2, A1.T) / m\n",
        "    db2 = np.sum(dZ2, axis=1, keepdims=True) / m\n",
        "    dA1 = np.dot(W2.T, dZ2)\n",
        "    dZ1 = dA1 * relu_derivative(A1)\n",
        "    dW1 = np.dot(dZ1, X.T) / m\n",
        "    db1 = np.sum(dZ1, axis=1, keepdims=True) / m\n",
        "    return dW1, db1, dW2, db2\n",
        "\n",
        "def update_parameters(W1, b1, W2, b2, dW1, db1, dW2, db2, learning_rate):\n",
        "    W1 -= learning_rate * dW1\n",
        "    b1 -= learning_rate * db1\n",
        "    W2 -= learning_rate * dW2\n",
        "    b2 -= learning_rate * db2\n",
        "    return W1, b1, W2, b2\n",
        "\n",
        "# 初始化参数\n",
        "input_size = 2\n",
        "hidden_size = 4\n",
        "output_size = 1\n",
        "W1, b1, W2, b2 = initialize_parameters(input_size, hidden_size, output_size)\n",
        "\n",
        "# data\n",
        "np.random.seed(0)\n",
        "data = np.random.rand(1000, 2) * 10  # 生成1000个随机点\n",
        "labels = (np.sum(data, axis=1) > 10).astype(int).reshape(-1, 1)\n",
        "\n",
        "# training\n",
        "learning_rate = 0.01\n",
        "loss_values = []\n",
        "\n",
        "for ii in tqdm(range(10000),desc='Training'):\n",
        "    X = data.T\n",
        "    Y = labels.T\n",
        "\n",
        "    # foward\n",
        "    A1, A2 = forward_propagation(X, W1, b1, W2, b2)\n",
        "\n",
        "    # loss\n",
        "    loss = compute_cost(A2, Y)\n",
        "    loss_values.append(loss)\n",
        "\n",
        "    # 反向\n",
        "    dW1, db1, dW2, db2 = backward_propagation(X, Y, A1, A2, W2)\n",
        "\n",
        "    # 更新\n",
        "    W1, b1, W2, b2 = update_parameters(W1, b1, W2, b2, dW1, db1, dW2, db2, learning_rate)\n",
        "\n",
        "    if ii % 1000 == 0:\n",
        "        print(f'Epoch [{ii+1}/{ii}] Loss: {loss}')\n",
        "\n",
        "\n",
        "plt.plot(loss_values)\n",
        "plt.title(\"Loss chart\")\n",
        "plt.xlabel(\"epochs\")\n",
        "plt.ylabel(\"loss\")\n",
        "plt.show()\n"
      ],
      "metadata": {
        "colab": {
          "base_uri": "https://localhost:8080/",
          "height": 663
        },
        "id": "31emN46XvuHE",
        "outputId": "70623b24-48db-4c87-813b-1149783c6697"
      },
      "execution_count": null,
      "outputs": [
        {
          "output_type": "stream",
          "name": "stderr",
          "text": [
            "Training:   2%|▏         | 237/10000 [00:00<00:04, 2369.36it/s]"
          ]
        },
        {
          "output_type": "stream",
          "name": "stdout",
          "text": [
            "Epoch [1/0] Loss: 0.2500053046077739\n"
          ]
        },
        {
          "output_type": "stream",
          "name": "stderr",
          "text": [
            "Training:  13%|█▎        | 1323/10000 [00:00<00:02, 2907.16it/s]"
          ]
        },
        {
          "output_type": "stream",
          "name": "stdout",
          "text": [
            "Epoch [1001/1000] Loss: 0.16779012919738864\n"
          ]
        },
        {
          "output_type": "stream",
          "name": "stderr",
          "text": [
            "Training:  26%|██▌       | 2571/10000 [00:00<00:01, 3813.33it/s]"
          ]
        },
        {
          "output_type": "stream",
          "name": "stdout",
          "text": [
            "Epoch [2001/2000] Loss: 0.1007306409594141\n"
          ]
        },
        {
          "output_type": "stream",
          "name": "stderr",
          "text": [
            "Training:  35%|███▍      | 3479/10000 [00:00<00:01, 4161.03it/s]"
          ]
        },
        {
          "output_type": "stream",
          "name": "stdout",
          "text": [
            "Epoch [3001/3000] Loss: 0.06417603371569319\n"
          ]
        },
        {
          "output_type": "stream",
          "name": "stderr",
          "text": [
            "Training:  45%|████▍     | 4481/10000 [00:01<00:01, 4575.02it/s]"
          ]
        },
        {
          "output_type": "stream",
          "name": "stdout",
          "text": [
            "Epoch [4001/4000] Loss: 0.047885054055568005\n",
            "Epoch [5001/5000] Loss: 0.03915376040028607\n"
          ]
        },
        {
          "output_type": "stream",
          "name": "stderr",
          "text": [
            "Training:  55%|█████▍    | 5468/10000 [00:01<00:01, 4252.89it/s]"
          ]
        },
        {
          "output_type": "stream",
          "name": "stdout",
          "text": [
            "Epoch [6001/6000] Loss: 0.03349702574447312\n"
          ]
        },
        {
          "output_type": "stream",
          "name": "stderr",
          "text": [
            "Training:  82%|████████▏ | 8187/10000 [00:01<00:00, 7370.80it/s]"
          ]
        },
        {
          "output_type": "stream",
          "name": "stdout",
          "text": [
            "Epoch [7001/7000] Loss: 0.029104161866204688\n",
            "Epoch [8001/8000] Loss: 0.025831194793084506\n"
          ]
        },
        {
          "output_type": "stream",
          "name": "stderr",
          "text": [
            "Training: 100%|██████████| 10000/10000 [00:01<00:00, 5304.09it/s]\n"
          ]
        },
        {
          "output_type": "stream",
          "name": "stdout",
          "text": [
            "Epoch [9001/9000] Loss: 0.023573833009152584\n"
          ]
        },
        {
          "output_type": "display_data",
          "data": {
            "text/plain": [
              "<Figure size 640x480 with 1 Axes>"
            ],
            "image/png": "[encoded data removed]"
          },
          "metadata": {}
        }
      ]
    },
    {
      "cell_type": "code",
      "source": [
        "\n",
        "def predict(X, W1, b1, W2, b2):\n",
        "    A1, A2 = forward_propagation(X, W1, b1, W2, b2)\n",
        "    return A2\n",
        "\n",
        "\n",
        "x, y = np.random.rand(2) * 10\n",
        "print(f\"隨機點座標: ({x:.2f}, {y:.2f})\")\n",
        "\n",
        "\n",
        "point = np.array([[x], [y]])\n",
        "\n",
        "\n",
        "output = predict(point, W1, b1, W2, b2)\n",
        "\n",
        "\n",
        "predicted_class = 1 if output > 0.5 else 0\n",
        "print(f\"預測的類別: {predicted_class}\")\n"
      ],
      "metadata": {
        "colab": {
          "base_uri": "https://localhost:8080/"
        },
        "id": "8w7RZd77NI-t",
        "outputId": "a6c8e24f-155a-472b-9b63-318f964ae4cb"
      },
      "execution_count": null,
      "outputs": [
        {
          "output_type": "stream",
          "name": "stdout",
          "text": [
            "隨機點座標: (4.62, 7.26)\n",
            "預測的類別: 1\n"
          ]
        }
      ]
    }
  ]
}